{
 "cells": [
  {
   "cell_type": "markdown",
   "metadata": {},
   "source": [
    "# sort list\n",
    "\n",
    "#sort() method sort alphanumerically, ascendind by default"
   ]
  },
  {
   "cell_type": "code",
   "execution_count": 1,
   "metadata": {},
   "outputs": [
    {
     "data": {
      "text/plain": [
       "['banana', 'kiwi', 'mango', 'orange', 'pineapple']"
      ]
     },
     "execution_count": 1,
     "metadata": {},
     "output_type": "execute_result"
    }
   ],
   "source": [
    "thislist = [\"orange\", \"mango\", \"kiwi\", \"pineapple\", \"banana\"]\n",
    "\n",
    "thislist.sort()\n",
    "thislist"
   ]
  },
  {
   "cell_type": "code",
   "execution_count": 2,
   "metadata": {},
   "outputs": [
    {
     "data": {
      "text/plain": [
       "[23, 50, 65, 82, 100]"
      ]
     },
     "execution_count": 2,
     "metadata": {},
     "output_type": "execute_result"
    }
   ],
   "source": [
    "thislist = [100, 50, 65, 82, 23]\n",
    "\n",
    "thislist.sort()\n",
    "\n",
    "thislist"
   ]
  },
  {
   "cell_type": "code",
   "execution_count": 3,
   "metadata": {},
   "outputs": [
    {
     "data": {
      "text/plain": [
       "['pineapple', 'orange', 'mango', 'kiwi', 'banana']"
      ]
     },
     "execution_count": 3,
     "metadata": {},
     "output_type": "execute_result"
    }
   ],
   "source": [
    "thislist = [\"orange\", \"mango\", \"kiwi\", \"pineapple\", \"banana\"]\n",
    "\n",
    "thislist.sort(reverse= True)\n",
    "\n",
    "thislist"
   ]
  },
  {
   "cell_type": "code",
   "execution_count": 5,
   "metadata": {},
   "outputs": [
    {
     "data": {
      "text/plain": [
       "[100, 82, 65, 50, 23]"
      ]
     },
     "execution_count": 5,
     "metadata": {},
     "output_type": "execute_result"
    }
   ],
   "source": [
    "thislist = [100, 50, 65, 82, 23]\n",
    "\n",
    "thislist.sort(reverse=True)\n",
    "\n",
    "thislist"
   ]
  },
  {
   "cell_type": "code",
   "execution_count": 9,
   "metadata": {},
   "outputs": [
    {
     "data": {
      "text/plain": [
       "['orange', 'kiwi', 'banana']"
      ]
     },
     "execution_count": 9,
     "metadata": {},
     "output_type": "execute_result"
    }
   ],
   "source": [
    "# removing mango and pineapple from thislist\n",
    "\n",
    "item_list = [\"orange\", \"mango\", \"kiwi\", \"pineapple\", \"banana\"]\n",
    "\n",
    "thislist = [\"mango\",\"pineapple\"]\n",
    "\n",
    "# thislist.sort(reverse=True)\n",
    "\n",
    "for item in thislist:\n",
    "\n",
    "    item_list.remove(item)\n",
    "\n",
    "item_list"
   ]
  },
  {
   "cell_type": "code",
   "execution_count": 37,
   "metadata": {},
   "outputs": [
    {
     "data": {
      "text/plain": [
       "['Kiwi', 'Orange', 'banana', 'cherry']"
      ]
     },
     "execution_count": 37,
     "metadata": {},
     "output_type": "execute_result"
    }
   ],
   "source": [
    "# changing case \n",
    "\n",
    "thislist = [\"banana\", \"Orange\", \"Kiwi\", \"cherry\"]\n",
    "thislist.sort()\n",
    "thislist"
   ]
  },
  {
   "cell_type": "code",
   "execution_count": 51,
   "metadata": {},
   "outputs": [
    {
     "data": {
      "text/plain": [
       "['banana', 'cherry', 'kiwi', 'orange']"
      ]
     },
     "execution_count": 51,
     "metadata": {},
     "output_type": "execute_result"
    }
   ],
   "source": [
    "sorted_list = \" \".join(thislist)\n",
    "listed = sorted_list.lower().split()\n",
    "listed.sort()\n",
    "listed"
   ]
  },
  {
   "cell_type": "code",
   "execution_count": 26,
   "metadata": {},
   "outputs": [
    {
     "data": {
      "text/plain": [
       "['banana', 'cherry', 'Kiwi', 'Orange']"
      ]
     },
     "execution_count": 26,
     "metadata": {},
     "output_type": "execute_result"
    }
   ],
   "source": [
    "# short way\n",
    "thislist = [\"banana\", \"Orange\", \"Kiwi\", \"cherry\"]\n",
    "\n",
    "thislist.sort(key=str.lower)\n",
    "\n",
    "thislist\n"
   ]
  },
  {
   "cell_type": "markdown",
   "metadata": {},
   "source": [
    "# copy list \n",
    "\n",
    "**cant do**\n",
    "   * list2 = list1  because list2 will be **reference** of list 1 that means any **changes** in list1 will automatically bring changes in list2\n",
    "\n",
    "# copy() method be use to make a copy"
   ]
  },
  {
   "cell_type": "code",
   "execution_count": 56,
   "metadata": {},
   "outputs": [
    {
     "name": "stdout",
     "output_type": "stream",
     "text": [
      "[0, 1, 2, 3, 4]\n",
      "[0, 1, 2, 3, 4]\n"
     ]
    }
   ],
   "source": [
    "\n",
    "items = [4,2,3,1,0]\n",
    "\n",
    "item = items\n",
    "\n",
    "items.sort()   #sorting items changes in item as well\n",
    "\n",
    "\n",
    "print(item)\n",
    "print(items)"
   ]
  },
  {
   "cell_type": "code",
   "execution_count": 62,
   "metadata": {},
   "outputs": [
    {
     "name": "stdout",
     "output_type": "stream",
     "text": [
      "original item:  [4, 2, 3, 1, 0]\n",
      "original items sorted :  [0, 1, 2, 3, 4]\n",
      "copy of original item :  [4, 2, 3, 1, 0]\n"
     ]
    }
   ],
   "source": [
    "original_items = [4,2,3,1,0]\n",
    "\n",
    "print(\"original item: \", original_items)\n",
    "\n",
    "item = original_items.copy()\n",
    "\n",
    "items.sort()\n",
    "\n",
    "print(\"original items sorted : \",items)\n",
    "print(\"copy of original item : \",item)"
   ]
  },
  {
   "cell_type": "code",
   "execution_count": 65,
   "metadata": {},
   "outputs": [
    {
     "name": "stdout",
     "output_type": "stream",
     "text": [
      "Original List :  ['apple', 'banana', 'cherry']\n",
      "List added in original List:  ['apple', 'banana', 'cherry', 'Watermelon']\n",
      "Copy list : ['apple', 'banana', 'cherry']\n"
     ]
    }
   ],
   "source": [
    "original_list = [\"apple\", \"banana\", \"cherry\"]\n",
    "\n",
    "print(\"Original List : \", original_list)\n",
    "\n",
    "copy_list = original_list.copy()\n",
    "\n",
    "original_list.append(\"Watermelon\")\n",
    "\n",
    "\n",
    "print(\"List added in original List: \", original_list)\n",
    "print(\"Copy list :\" ,copy_list)\n",
    "\n"
   ]
  },
  {
   "cell_type": "markdown",
   "metadata": {},
   "source": [
    "# list() method also copy list"
   ]
  },
  {
   "cell_type": "code",
   "execution_count": 67,
   "metadata": {},
   "outputs": [
    {
     "name": "stdout",
     "output_type": "stream",
     "text": [
      "Original List :  ['apple', 'banana', 'cherry']\n",
      "List added in original List:  ['apple', 'banana', 'cherry', 'Watermelon']\n",
      "Copy list : ['apple', 'banana', 'cherry']\n"
     ]
    }
   ],
   "source": [
    "original_list = [\"apple\", \"banana\", \"cherry\"]\n",
    "\n",
    "print(\"Original List : \", original_list)\n",
    "\n",
    "copy_list = list(original_list)\n",
    "\n",
    "original_list.append(\"Watermelon\")\n",
    "\n",
    "\n",
    "print(\"List added in original List: \", original_list)\n",
    "print(\"Copy list :\" ,copy_list)"
   ]
  },
  {
   "cell_type": "markdown",
   "metadata": {},
   "source": [
    "# Join list\n",
    "* using + operator\n",
    "* using extend() method"
   ]
  },
  {
   "cell_type": "code",
   "execution_count": 68,
   "metadata": {},
   "outputs": [
    {
     "data": {
      "text/plain": [
       "[1, 2, 3, 4, 5, 6]"
      ]
     },
     "execution_count": 68,
     "metadata": {},
     "output_type": "execute_result"
    }
   ],
   "source": [
    "list_1 = [1,2,3]\n",
    "list_2 =[4,5,6]\n",
    "\n",
    "new_list = list_1 + list_2\n",
    "\n",
    "new_list"
   ]
  },
  {
   "cell_type": "code",
   "execution_count": 69,
   "metadata": {},
   "outputs": [
    {
     "data": {
      "text/plain": [
       "[1, 2, 3, 4, 5, 6, 'a', 'b', 'c']"
      ]
     },
     "execution_count": 69,
     "metadata": {},
     "output_type": "execute_result"
    }
   ],
   "source": [
    "list_3 = ['a','b','c']\n",
    "\n",
    "new_list = new_list + list_3\n",
    "\n",
    "new_list\n"
   ]
  },
  {
   "cell_type": "code",
   "execution_count": 72,
   "metadata": {},
   "outputs": [
    {
     "data": {
      "text/plain": [
       "[1, 2, 3, 4, 5, 6, 'a', 'b', 'c', 'x', 'y', 'z']"
      ]
     },
     "execution_count": 72,
     "metadata": {},
     "output_type": "execute_result"
    }
   ],
   "source": [
    "new_list =[1, 2, 3, 4, 5, 6, 'a', 'b', 'c']\n",
    "list_4 = ['x','y','z']\n",
    "\n",
    "new_list.extend(list_4)\n",
    "\n",
    "new_list"
   ]
  },
  {
   "cell_type": "code",
   "execution_count": 73,
   "metadata": {},
   "outputs": [
    {
     "data": {
      "text/plain": [
       "[1, 2, 3, 4, 5, 6, 'a', 'b', 'c', ['x', 'y', 'z']]"
      ]
     },
     "execution_count": 73,
     "metadata": {},
     "output_type": "execute_result"
    }
   ],
   "source": [
    "new_list =[1, 2, 3, 4, 5, 6, 'a', 'b', 'c']\n",
    "list_4 = ['x','y','z']\n",
    "\n",
    "new_list.append(list_4)\n",
    "new_list"
   ]
  },
  {
   "cell_type": "code",
   "execution_count": 74,
   "metadata": {},
   "outputs": [
    {
     "data": {
      "text/plain": [
       "[1, 2, 3, 4, 5, 6, 'a', 'b', 'c', 'x', 'y', 'z']"
      ]
     },
     "execution_count": 74,
     "metadata": {},
     "output_type": "execute_result"
    }
   ],
   "source": [
    "new_list =[1, 2, 3, 4, 5, 6, 'a', 'b', 'c']\n",
    "list_4 = ['x','y','z']\n",
    "\n",
    "\n",
    "for item in list_4:\n",
    "    new_list.append(item)\n",
    "\n",
    "new_list"
   ]
  },
  {
   "cell_type": "code",
   "execution_count": null,
   "metadata": {},
   "outputs": [],
   "source": []
  }
 ],
 "metadata": {
  "kernelspec": {
   "display_name": "Python 3",
   "language": "python",
   "name": "python3"
  },
  "language_info": {
   "codemirror_mode": {
    "name": "ipython",
    "version": 3
   },
   "file_extension": ".py",
   "mimetype": "text/x-python",
   "name": "python",
   "nbconvert_exporter": "python",
   "pygments_lexer": "ipython3",
   "version": "3.11.5"
  }
 },
 "nbformat": 4,
 "nbformat_minor": 2
}
