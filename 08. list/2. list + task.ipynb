{
 "cells": [
  {
   "cell_type": "markdown",
   "metadata": {},
   "source": [
    "# allow duplicate"
   ]
  },
  {
   "cell_type": "code",
   "execution_count": 1,
   "metadata": {},
   "outputs": [
    {
     "data": {
      "text/plain": [
       "['apple', 'banana', 'apple', 'banana']"
      ]
     },
     "execution_count": 1,
     "metadata": {},
     "output_type": "execute_result"
    }
   ],
   "source": [
    "list_item = [\"apple\", \"banana\", \"apple\", \"banana\"]\n",
    "\n",
    "list_item"
   ]
  },
  {
   "cell_type": "markdown",
   "metadata": {},
   "source": [
    "# changeable"
   ]
  },
  {
   "cell_type": "code",
   "execution_count": 14,
   "metadata": {},
   "outputs": [
    {
     "data": {
      "text/plain": [
       "['mango', 'banana', 'apple', 'banana']"
      ]
     },
     "execution_count": 14,
     "metadata": {},
     "output_type": "execute_result"
    }
   ],
   "source": [
    "list_item = [\"apple\", \"banana\", \"apple\", \"banana\"]\n",
    "\n",
    "list_item[0] = \"mango\"   #apple will be replace by mango\n",
    "\n",
    "list_item"
   ]
  },
  {
   "cell_type": "code",
   "execution_count": 16,
   "metadata": {},
   "outputs": [
    {
     "data": {
      "text/plain": [
       "['mango', 'banana', 'apple', 'orange']"
      ]
     },
     "execution_count": 16,
     "metadata": {},
     "output_type": "execute_result"
    }
   ],
   "source": [
    "list_item[-1] = \"orange\"  # last item will be replace\n",
    "list_item"
   ]
  },
  {
   "cell_type": "code",
   "execution_count": 17,
   "metadata": {},
   "outputs": [
    {
     "name": "stdout",
     "output_type": "stream",
     "text": [
      "<class 'list'>\n"
     ]
    }
   ],
   "source": [
    "print(type(list_item))"
   ]
  },
  {
   "cell_type": "markdown",
   "metadata": {},
   "source": [
    "# list constructor"
   ]
  },
  {
   "cell_type": "code",
   "execution_count": 19,
   "metadata": {},
   "outputs": [
    {
     "data": {
      "text/plain": [
       "['mango', 'banana', 'apple', 'orange']"
      ]
     },
     "execution_count": 19,
     "metadata": {},
     "output_type": "execute_result"
    }
   ],
   "source": [
    "list_con = list(('mango', 'banana', 'apple', 'orange'))\n",
    "\n",
    "list_con"
   ]
  },
  {
   "cell_type": "markdown",
   "metadata": {},
   "source": [
    "# add list items\n",
    "\n",
    "* append\n",
    "* insert\n",
    "* extend"
   ]
  },
  {
   "cell_type": "code",
   "execution_count": 24,
   "metadata": {},
   "outputs": [
    {
     "data": {
      "text/plain": [
       "['apple', 'banana', 'apple', 'banana', 'watermelon']"
      ]
     },
     "execution_count": 24,
     "metadata": {},
     "output_type": "execute_result"
    }
   ],
   "source": [
    "# append\n",
    "\n",
    "list_item = [\"apple\", \"banana\", \"apple\", \"banana\"]\n",
    "\n",
    "list_item.append(\"watermelon\")  # append will add item at the end of the list\n",
    "\n",
    "list_item"
   ]
  },
  {
   "cell_type": "code",
   "execution_count": 25,
   "metadata": {},
   "outputs": [
    {
     "data": {
      "text/plain": [
       "['apple', 'banana', 'apple', 'orange', 'banana']"
      ]
     },
     "execution_count": 25,
     "metadata": {},
     "output_type": "execute_result"
    }
   ],
   "source": [
    "# insert method \n",
    "\n",
    "list_item = [\"apple\", \"banana\", \"apple\", \"banana\"]\n",
    "\n",
    "list_item.insert(3, \"orange\")  #insert method inset items at specified index\n",
    "\n",
    "list_item\n",
    "\n"
   ]
  },
  {
   "cell_type": "code",
   "execution_count": 26,
   "metadata": {},
   "outputs": [
    {
     "data": {
      "text/plain": [
       "['apple', 3, 4, 5, 'banana']"
      ]
     },
     "execution_count": 26,
     "metadata": {},
     "output_type": "execute_result"
    }
   ],
   "source": [
    "list_item[1:4] = [3,4,5]\n",
    "list_item"
   ]
  },
  {
   "cell_type": "code",
   "execution_count": 33,
   "metadata": {},
   "outputs": [
    {
     "data": {
      "text/plain": [
       "['apple', 'banana', 'orange', 'watermelon', 'pineapple', 'kiwi', 'mango']"
      ]
     },
     "execution_count": 33,
     "metadata": {},
     "output_type": "execute_result"
    }
   ],
   "source": [
    "# extend method\n",
    "\n",
    "item_one = [\"apple\", \"banana\", \"orange\", \"watermelon\"]\n",
    "item_two = [\"pineapple\", \"kiwi\", \"mango\"]\n",
    "\n",
    "item_one.extend(item_two)\n",
    "\n",
    "item_one"
   ]
  },
  {
   "cell_type": "code",
   "execution_count": 36,
   "metadata": {},
   "outputs": [
    {
     "data": {
      "text/plain": [
       "['apple', 'banana', 'orange', 'watermelon', 'pineapple', 'kiwi', 'mango']"
      ]
     },
     "execution_count": 36,
     "metadata": {},
     "output_type": "execute_result"
    }
   ],
   "source": [
    "item_one = [\"apple\", \"banana\", \"orange\", \"watermelon\"]\n",
    "item_two = [\"pineapple\", \"kiwi\", \"mango\"]\n",
    "item = item_one + item_two\n",
    "item"
   ]
  },
  {
   "cell_type": "markdown",
   "metadata": {},
   "source": [
    "\n",
    "# remove items\n",
    "* remove\n",
    "* pop\n",
    "* del"
   ]
  },
  {
   "cell_type": "code",
   "execution_count": 2,
   "metadata": {},
   "outputs": [
    {
     "data": {
      "text/plain": [
       "['apple', 'banana', 'orange', 'watermelon', 'pineapple', 'kiwi', 'mango']"
      ]
     },
     "execution_count": 2,
     "metadata": {},
     "output_type": "execute_result"
    }
   ],
   "source": [
    "item_one = [\"apple\", \"banana\", \"orange\", \"watermelon\"]\n",
    "item_two = [\"pineapple\", \"kiwi\", \"mango\"]\n",
    "\n",
    "item = []\n",
    "\n",
    "item_one.extend(item_two)\n",
    "\n",
    "item = item_one\n",
    "\n",
    "item"
   ]
  },
  {
   "cell_type": "code",
   "execution_count": 22,
   "metadata": {},
   "outputs": [
    {
     "data": {
      "text/plain": [
       "['apple', 'banana', 'watermelon', 'pineapple', 'kiwi', 'mango']"
      ]
     },
     "execution_count": 22,
     "metadata": {},
     "output_type": "execute_result"
    }
   ],
   "source": [
    "\"\"\"\n",
    "***  REMOVE function/method  remove specified item from the list\n",
    "\n",
    "\n",
    "\"\"\"\n",
    "\n",
    "item = ['apple', 'banana', 'orange', 'watermelon', 'pineapple', 'kiwi', 'mango']\n",
    "item.remove('orange')\n",
    "item\n",
    "\n"
   ]
  },
  {
   "cell_type": "code",
   "execution_count": 9,
   "metadata": {},
   "outputs": [
    {
     "data": {
      "text/plain": [
       "['apple', 'watermelon', 'pineapple', 'kiwi', 'mango']"
      ]
     },
     "execution_count": 9,
     "metadata": {},
     "output_type": "execute_result"
    }
   ],
   "source": [
    "item.remove('banana')\n",
    "item"
   ]
  },
  {
   "cell_type": "code",
   "execution_count": 10,
   "metadata": {},
   "outputs": [
    {
     "data": {
      "text/plain": [
       "5"
      ]
     },
     "execution_count": 10,
     "metadata": {},
     "output_type": "execute_result"
    }
   ],
   "source": [
    "len(item)"
   ]
  },
  {
   "cell_type": "code",
   "execution_count": 19,
   "metadata": {},
   "outputs": [
    {
     "name": "stdout",
     "output_type": "stream",
     "text": [
      "['apple', 'banana', 'orange', 'watermelon', '', '', 'mango']\n"
     ]
    }
   ],
   "source": [
    "item = ['apple', 'banana', 'orange', 'watermelon', 'pineapple', 'kiwi', 'mango']\n",
    "rem_item = ['pineapple','kiwi']\n",
    "\n",
    "for index in range(len(item)):\n",
    "\n",
    "  for rm_item in rem_item:\n",
    "\n",
    "    if rm_item in item[index]:\n",
    "        item[index] = item[index].replace(rm_item, '')\n",
    "\n",
    "\n",
    "\n",
    "print(item)"
   ]
  },
  {
   "cell_type": "code",
   "execution_count": 20,
   "metadata": {},
   "outputs": [
    {
     "data": {
      "text/plain": [
       "['apple', 'banana', 'orange', 'watermelon', 'mango']"
      ]
     },
     "execution_count": 20,
     "metadata": {},
     "output_type": "execute_result"
    }
   ],
   "source": [
    "# filter to remove none item that is ''\n",
    "\n",
    "item = list(filter(None, item))\n",
    "\n",
    "item"
   ]
  },
  {
   "cell_type": "code",
   "execution_count": 21,
   "metadata": {},
   "outputs": [
    {
     "data": {
      "text/plain": [
       "['apple', 'banana', 'orange', 'watermelon', 'mango']"
      ]
     },
     "execution_count": 21,
     "metadata": {},
     "output_type": "execute_result"
    }
   ],
   "source": [
    "# shorter way\n",
    "\n",
    "item_list = ['apple', 'banana', 'orange', 'watermelon', 'pineapple', 'kiwi', 'mango']\n",
    "rem_item = ['pineapple','kiwi']\n",
    "\n",
    "\n",
    "for item in rem_item:\n",
    "    if item in item_list:\n",
    "        item_list.remove(item)\n",
    "\n",
    "item_list"
   ]
  },
  {
   "cell_type": "code",
   "execution_count": null,
   "metadata": {},
   "outputs": [],
   "source": [
    "# pop "
   ]
  }
 ],
 "metadata": {
  "kernelspec": {
   "display_name": "Python 3",
   "language": "python",
   "name": "python3"
  },
  "language_info": {
   "codemirror_mode": {
    "name": "ipython",
    "version": 3
   },
   "file_extension": ".py",
   "mimetype": "text/x-python",
   "name": "python",
   "nbconvert_exporter": "python",
   "pygments_lexer": "ipython3",
   "version": "3.11.5"
  }
 },
 "nbformat": 4,
 "nbformat_minor": 2
}
