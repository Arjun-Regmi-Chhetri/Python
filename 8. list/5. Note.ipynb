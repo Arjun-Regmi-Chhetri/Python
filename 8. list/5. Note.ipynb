{
 "cells": [
  {
   "cell_type": "markdown",
   "metadata": {},
   "source": [
    "Method\tDescription\n",
    "* append()\tAdds an element at the end of the list\n",
    "* clear()\tRemoves all the elements from the list\n",
    "* copy()\tReturns a copy of the list\n",
    "* count()\tReturns the number of elements with the specified value\n",
    "* extend()\tAdd the elements of a list (or any iterable), to the end of the current list\n",
    "* index()\tReturns the index of the first element with the specified value\n",
    "* insert()\tAdds an element at the specified position\n",
    "* pop()\tRemoves the element at the specified position\n",
    "* remove()\tRemoves the item with the specified value\n",
    "* reverse()\tReverses the order of the list\n",
    "* sort()\tSorts the list"
   ]
  },
  {
   "cell_type": "markdown",
   "metadata": {},
   "source": []
  }
 ],
 "metadata": {
  "language_info": {
   "name": "python"
  }
 },
 "nbformat": 4,
 "nbformat_minor": 2
}
