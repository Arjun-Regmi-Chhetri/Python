{
 "cells": [
  {
   "cell_type": "markdown",
   "metadata": {},
   "source": [
    "# default vs non default argument"
   ]
  },
  {
   "cell_type": "code",
   "execution_count": 2,
   "metadata": {},
   "outputs": [
    {
     "name": "stdout",
     "output_type": "stream",
     "text": [
      "Arjun Chhetri\n"
     ]
    }
   ],
   "source": [
    "\"\"\"\n",
    "**NON Default argument\n",
    "\"\"\"\n",
    "\n",
    "def name(first, last):\n",
    "    print(first+ \" \" + last)\n",
    "name(\"Arjun\", \"Chhetri\")"
   ]
  },
  {
   "cell_type": "code",
   "execution_count": 7,
   "metadata": {},
   "outputs": [
    {
     "name": "stdout",
     "output_type": "stream",
     "text": [
      "Arjun Chhetri\n",
      "Hello, !  Python\n"
     ]
    }
   ],
   "source": [
    "\"\"\"\n",
    " ** Default argument\n",
    "\"\"\"\n",
    "\n",
    "def name(first , last= \"Python\"):\n",
    "    print(first+ \" \" + last)\n",
    "name(\"Arjun\", \"Chhetri\")\n",
    "name(\"Hello, ! \")"
   ]
  },
  {
   "cell_type": "code",
   "execution_count": 8,
   "metadata": {},
   "outputs": [
    {
     "name": "stdout",
     "output_type": "stream",
     "text": [
      "I am from Nepal\n",
      "I am from Sweden\n",
      "I am from India\n",
      "I am from Brazil\n"
     ]
    }
   ],
   "source": [
    "def my_function(country = \"Nepal\"):\n",
    "  print(\"I am from \" + country)\n",
    "my_function()\n",
    "my_function(\"Sweden\")\n",
    "my_function(\"India\")\n",
    "my_function(\"Brazil\")"
   ]
  },
  {
   "cell_type": "code",
   "execution_count": 9,
   "metadata": {},
   "outputs": [
    {
     "name": "stdout",
     "output_type": "stream",
     "text": [
      "Hello Arjun, Good Morning\n"
     ]
    }
   ],
   "source": [
    "def greet(name, msg):\n",
    "    print(f\"Hello {name}, {msg}\")\n",
    "\n",
    "greet(\"Arjun\", \"Good Morning\")"
   ]
  },
  {
   "cell_type": "code",
   "execution_count": 12,
   "metadata": {},
   "outputs": [
    {
     "name": "stdout",
     "output_type": "stream",
     "text": [
      "Hello Arjun, Good Morning\n",
      "Hello , Good Morning\n"
     ]
    }
   ],
   "source": [
    "def greet(name, msg='Good Morning'): # msg is a default argument\n",
    "    print(f\"Hello {name}, {msg}\")\n",
    "\n",
    "greet(name=\"Arjun\")\n",
    "greet(\"\")"
   ]
  },
  {
   "cell_type": "code",
   "execution_count": 13,
   "metadata": {},
   "outputs": [
    {
     "name": "stdout",
     "output_type": "stream",
     "text": [
      "Hello Hari, Good afternoon\n"
     ]
    }
   ],
   "source": [
    "greet(name='Hari', msg='Good afternoon')"
   ]
  },
  {
   "cell_type": "markdown",
   "metadata": {},
   "source": [
    "# Global vs Local"
   ]
  },
  {
   "cell_type": "code",
   "execution_count": 14,
   "metadata": {},
   "outputs": [
    {
     "name": "stdout",
     "output_type": "stream",
     "text": [
      "Hello Python\n"
     ]
    }
   ],
   "source": [
    "text = \"Hello World\"   # global scope\n",
    "\n",
    "def my_func():\n",
    "    text = \"Hello Python\"   #local scope\n",
    "    print(text)\n",
    "\n",
    "my_func()"
   ]
  },
  {
   "cell_type": "code",
   "execution_count": 15,
   "metadata": {},
   "outputs": [
    {
     "name": "stdout",
     "output_type": "stream",
     "text": [
      "Hello World\n"
     ]
    }
   ],
   "source": [
    "text = \"Hello World\"   # global scope\n",
    "\n",
    "def my_func():\n",
    "    print(text)\n",
    "\n",
    "my_func()"
   ]
  },
  {
   "cell_type": "code",
   "execution_count": null,
   "metadata": {},
   "outputs": [],
   "source": []
  }
 ],
 "metadata": {
  "kernelspec": {
   "display_name": "Python 3",
   "language": "python",
   "name": "python3"
  },
  "language_info": {
   "codemirror_mode": {
    "name": "ipython",
    "version": 3
   },
   "file_extension": ".py",
   "mimetype": "text/x-python",
   "name": "python",
   "nbconvert_exporter": "python",
   "pygments_lexer": "ipython3",
   "version": "3.11.5"
  }
 },
 "nbformat": 4,
 "nbformat_minor": 2
}
