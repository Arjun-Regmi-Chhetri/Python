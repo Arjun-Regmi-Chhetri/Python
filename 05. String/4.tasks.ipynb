{
 "cells": [
  {
   "cell_type": "code",
   "execution_count": 1,
   "id": "d92fd3ab-f223-4d68-bc9d-5a4e7499da58",
   "metadata": {},
   "outputs": [
    {
     "name": "stdout",
     "output_type": "stream",
     "text": [
      "Enter word 20\n"
     ]
    },
    {
     "name": "stdout",
     "output_type": "stream",
     "text": [
      "20\n"
     ]
    }
   ],
   "source": [
    "x = input(\"Enter word\")\n",
    "\n",
    "print(x)\n"
   ]
  },
  {
   "cell_type": "code",
   "execution_count": 2,
   "id": "ec0b27e9-af90-43a1-aba9-0e0198d74353",
   "metadata": {},
   "outputs": [
    {
     "name": "stdout",
     "output_type": "stream",
     "text": [
      "Enter a word 10\n"
     ]
    },
    {
     "name": "stdout",
     "output_type": "stream",
     "text": [
      "<class 'str'>\n"
     ]
    }
   ],
   "source": [
    "x = input(\"Enter a word\")\n",
    "\n",
    "print(type(x))"
   ]
  },
  {
   "cell_type": "markdown",
   "id": "cd21f7b5",
   "metadata": {},
   "source": [
    "# String rotation"
   ]
  },
  {
   "cell_type": "code",
   "execution_count": 3,
   "id": "4251e47f",
   "metadata": {},
   "outputs": [
    {
     "name": "stdout",
     "output_type": "stream",
     "text": [
      "String two is a rotaion of string one\n"
     ]
    }
   ],
   "source": [
    "stringone = \"NEPALINDIACHINA\"\n",
    "stringtwo = \"chinanepalindia\"\n",
    "\n",
    "string1 = stringone.lower()\n",
    "string2 = stringtwo.lower()\n",
    "\n",
    "if(len(string1) != len(string2)):\n",
    "    print(\"string2 is not a rotaion of string1\")\n",
    "else:\n",
    "    string = string1 + string2\n",
    "    if stringtwo in string:\n",
    "        print(\"String two is a rotaion of string one\")\n",
    "    else:\n",
    "        print(\"String2 is not a rotation of string1\")\n",
    "    "
   ]
  },
  {
   "cell_type": "markdown",
   "id": "668f2128",
   "metadata": {},
   "source": [
    "# simple quiz "
   ]
  },
  {
   "cell_type": "code",
   "execution_count": 1,
   "id": "205585fa-9667-4f85-b41c-b05ba31557af",
   "metadata": {},
   "outputs": [
    {
     "name": "stdout",
     "output_type": "stream",
     "text": [
      "Start : \n"
     ]
    },
    {
     "name": "stdout",
     "output_type": "stream",
     "text": [
      "Do you want to play ? yes/y or no /n :  yes\n",
      "What does CPU stand for? :  central processing unit\n"
     ]
    },
    {
     "name": "stdout",
     "output_type": "stream",
     "text": [
      "1\n"
     ]
    }
   ],
   "source": [
    "print(\"Start : \")\n",
    "\n",
    "play = input(\"Do you want to play ? yes/y or no /n : \")\n",
    "\n",
    "play = play.lower()\n",
    "\n",
    "score = 0\n",
    "\n",
    "if play != 'yes' and play != 'y':\n",
    "    exit()\n",
    "else:\n",
    "    qsn = input(\"What does CPU stand for? : \")\n",
    "    qsn = qsn.strip().lower()\n",
    "    if(qsn == 'central processing unit'):\n",
    "        score += 1\n",
    "        print(score)\n",
    "    else:\n",
    "        print(\"incorrect\")"
   ]
  },
  {
   "cell_type": "markdown",
   "id": "11fc00c1-9ba2-4c9d-a8ab-6b5da7ce2a48",
   "metadata": {},
   "source": [
    "# extract fruit from string"
   ]
  },
  {
   "cell_type": "code",
   "execution_count": 2,
   "id": "36e4312d",
   "metadata": {},
   "outputs": [
    {
     "data": {
      "text/plain": [
       "['orange', 'apple', 'mango', 'kiwi']"
      ]
     },
     "execution_count": 2,
     "metadata": {},
     "output_type": "execute_result"
    }
   ],
   "source": [
    "text = \"I like orange apple mango and kiwi.\"\n",
    "text = text.lower()\n",
    "text = text.replace('i ',\" \").replace(\"like \", \" \").replace(\"and \",\" \").replace(\".\",\" \")\n",
    "text = text.split()\n",
    "text"
   ]
  },
  {
   "cell_type": "code",
   "execution_count": null,
   "id": "245551ac",
   "metadata": {},
   "outputs": [],
   "source": [
    "text = \"I like orange apple mango and kiwi.\"\n",
    "\n"
   ]
  }
 ],
 "metadata": {
  "kernelspec": {
   "display_name": "Python 3 (ipykernel)",
   "language": "python",
   "name": "python3"
  },
  "language_info": {
   "codemirror_mode": {
    "name": "ipython",
    "version": 3
   },
   "file_extension": ".py",
   "mimetype": "text/x-python",
   "name": "python",
   "nbconvert_exporter": "python",
   "pygments_lexer": "ipython3",
   "version": "3.11.5"
  }
 },
 "nbformat": 4,
 "nbformat_minor": 5
}
