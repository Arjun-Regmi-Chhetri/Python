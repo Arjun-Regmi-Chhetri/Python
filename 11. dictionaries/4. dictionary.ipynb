{
 "cells": [
  {
   "cell_type": "markdown",
   "metadata": {},
   "source": [
    "# method in dictionary\n",
    "\n",
    "Method\tDescription\n",
    "* clear()\tRemoves all the elements from the dictionary\n",
    "* copy()\tReturns a copy of the dictionary\n",
    "* fromkeys()\tReturns a dictionary with the specified keys and value\n",
    "* get()\tReturns the value of the specified key\n",
    "* items()\tReturns a list containing a tuple for each key value pair\n",
    "* keys()\tReturns a list containing the dictionary's keys\n",
    "* pop()\tRemoves the element with the specified key\n",
    "* popitem()\tRemoves the last inserted key-value pair\n",
    "* setdefault()\tReturns the value of the specified key. If the key does not exist: insert the key, with the specified value\n",
    "* update()\tUpdates the dictionary with the specified key-value pairs\n",
    "* values()\tReturns a list of all the values in the dictionary"
   ]
  },
  {
   "cell_type": "code",
   "execution_count": null,
   "metadata": {},
   "outputs": [],
   "source": []
  }
 ],
 "metadata": {
  "language_info": {
   "name": "python"
  }
 },
 "nbformat": 4,
 "nbformat_minor": 2
}
