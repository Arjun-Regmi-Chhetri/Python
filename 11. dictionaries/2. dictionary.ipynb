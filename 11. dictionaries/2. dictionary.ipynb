{
 "cells": [
  {
   "cell_type": "markdown",
   "metadata": {},
   "source": [
    "# Access item \n",
    "* `[]` using squre bracket\n",
    "* get() method\n",
    "* keys() and values() method\n",
    "* items() method"
   ]
  },
  {
   "cell_type": "code",
   "execution_count": 1,
   "metadata": {},
   "outputs": [
    {
     "data": {
      "text/plain": [
       "'Ford'"
      ]
     },
     "execution_count": 1,
     "metadata": {},
     "output_type": "execute_result"
    }
   ],
   "source": [
    "# using `[]` method\n",
    "\n",
    "car = {\n",
    "\"brand\": \"Ford\",\n",
    "\"model\": \"Mustang\",\n",
    "\"year\": 1964\n",
    "}\n",
    "\n",
    "car['brand']"
   ]
  },
  {
   "cell_type": "code",
   "execution_count": 2,
   "metadata": {},
   "outputs": [
    {
     "data": {
      "text/plain": [
       "'Mustang'"
      ]
     },
     "execution_count": 2,
     "metadata": {},
     "output_type": "execute_result"
    }
   ],
   "source": [
    "car['model']"
   ]
  },
  {
   "cell_type": "code",
   "execution_count": 3,
   "metadata": {},
   "outputs": [
    {
     "data": {
      "text/plain": [
       "1964"
      ]
     },
     "execution_count": 3,
     "metadata": {},
     "output_type": "execute_result"
    }
   ],
   "source": [
    "car['year']"
   ]
  },
  {
   "cell_type": "code",
   "execution_count": 4,
   "metadata": {},
   "outputs": [
    {
     "data": {
      "text/plain": [
       "'Ford'"
      ]
     },
     "execution_count": 4,
     "metadata": {},
     "output_type": "execute_result"
    }
   ],
   "source": [
    "# get () method\n",
    "\n",
    "car = {\n",
    "\"brand\": \"Ford\",\n",
    "\"model\": \"Mustang\",\n",
    "\"year\": 1964\n",
    "}\n",
    "\n",
    "car.get(\"brand\")"
   ]
  },
  {
   "cell_type": "code",
   "execution_count": 5,
   "metadata": {},
   "outputs": [
    {
     "data": {
      "text/plain": [
       "'Mustang'"
      ]
     },
     "execution_count": 5,
     "metadata": {},
     "output_type": "execute_result"
    }
   ],
   "source": [
    "car.get(\"model\")"
   ]
  },
  {
   "cell_type": "code",
   "execution_count": 6,
   "metadata": {},
   "outputs": [
    {
     "data": {
      "text/plain": [
       "1964"
      ]
     },
     "execution_count": 6,
     "metadata": {},
     "output_type": "execute_result"
    }
   ],
   "source": [
    "car.get(\"year\")"
   ]
  },
  {
   "cell_type": "code",
   "execution_count": 7,
   "metadata": {},
   "outputs": [
    {
     "ename": "TypeError",
     "evalue": "get expected at least 1 argument, got 0",
     "output_type": "error",
     "traceback": [
      "\u001b[1;31m---------------------------------------------------------------------------\u001b[0m",
      "\u001b[1;31mTypeError\u001b[0m                                 Traceback (most recent call last)",
      "Cell \u001b[1;32mIn[7], line 1\u001b[0m\n\u001b[1;32m----> 1\u001b[0m \u001b[43mcar\u001b[49m\u001b[38;5;241;43m.\u001b[39;49m\u001b[43mget\u001b[49m\u001b[43m(\u001b[49m\u001b[43m)\u001b[49m\n",
      "\u001b[1;31mTypeError\u001b[0m: get expected at least 1 argument, got 0"
     ]
    }
   ],
   "source": [
    "car.get()"
   ]
  },
  {
   "cell_type": "markdown",
   "metadata": {},
   "source": [
    "# keys and value\n",
    "\n",
    "* keys() method return keys of dictionary\n",
    "* values() method return values of the dictionary"
   ]
  },
  {
   "cell_type": "code",
   "execution_count": 8,
   "metadata": {},
   "outputs": [
    {
     "data": {
      "text/plain": [
       "dict_keys(['brand', 'model', 'year'])"
      ]
     },
     "execution_count": 8,
     "metadata": {},
     "output_type": "execute_result"
    }
   ],
   "source": [
    "car = {\n",
    "\"brand\": \"Ford\",\n",
    "\"model\": \"Mustang\",\n",
    "\"year\": 1964\n",
    "}\n",
    "\n",
    "car.keys()"
   ]
  },
  {
   "cell_type": "code",
   "execution_count": 9,
   "metadata": {},
   "outputs": [
    {
     "data": {
      "text/plain": [
       "dict_values(['Ford', 'Mustang', 1964])"
      ]
     },
     "execution_count": 9,
     "metadata": {},
     "output_type": "execute_result"
    }
   ],
   "source": [
    "car = {\n",
    "\"brand\": \"Ford\",\n",
    "\"model\": \"Mustang\",\n",
    "\"year\": 1964\n",
    "}\n",
    "\n",
    "car.values()"
   ]
  },
  {
   "cell_type": "code",
   "execution_count": 10,
   "metadata": {},
   "outputs": [
    {
     "data": {
      "text/plain": [
       "dict_keys(['name', 'address', 'subject'])"
      ]
     },
     "execution_count": 10,
     "metadata": {},
     "output_type": "execute_result"
    }
   ],
   "source": [
    "student = {\n",
    "    'name' : {\n",
    "        'first_name': 'Johny',\n",
    "        'last_name' : 'Sins'\n",
    "    },\n",
    "    'address' : 'Nepal',\n",
    "    'subject' : ['Math', 'Science']\n",
    "}\n",
    "\n",
    "student.keys()"
   ]
  },
  {
   "cell_type": "code",
   "execution_count": 11,
   "metadata": {},
   "outputs": [
    {
     "data": {
      "text/plain": [
       "dict_values([{'first_name': 'Johny', 'last_name': 'Sins'}, 'Nepal', ['Math', 'Science']])"
      ]
     },
     "execution_count": 11,
     "metadata": {},
     "output_type": "execute_result"
    }
   ],
   "source": [
    "student.values()"
   ]
  },
  {
   "cell_type": "code",
   "execution_count": 12,
   "metadata": {},
   "outputs": [
    {
     "data": {
      "text/plain": [
       "{'name': {'first_name': 'Johny', 'last_name': 'Sins'},\n",
       " 'address': 'Nepal',\n",
       " 'subject': ['Math', 'Science'],\n",
       " 'phone': '9815136310'}"
      ]
     },
     "execution_count": 12,
     "metadata": {},
     "output_type": "execute_result"
    }
   ],
   "source": [
    "student['phone'] = '9815136310'\n",
    "\n",
    "student"
   ]
  },
  {
   "cell_type": "code",
   "execution_count": 54,
   "metadata": {},
   "outputs": [
    {
     "name": "stdout",
     "output_type": "stream",
     "text": [
      "first_name  =  Johny\n",
      "last_name  =  Sins\n",
      "address =  Nepal\n",
      "subject =  ['Math', 'Science']\n"
     ]
    }
   ],
   "source": [
    "student = {\n",
    "    'name' : {\n",
    "        'first_name': 'Johny',\n",
    "        'last_name' : 'Sins'\n",
    "    },\n",
    "    'address' : 'Nepal',\n",
    "    'subject' : ['Math', 'Science']\n",
    "}\n",
    "\n",
    "for key, value in student.items():\n",
    "\n",
    "   if key == 'name':\n",
    "     for key, values in value.items():\n",
    "       print(key, \" = \", values)\n",
    "   else:\n",
    "    print(key, \"= \", value)\n",
    "        \n",
    "    \n",
    "   "
   ]
  },
  {
   "cell_type": "markdown",
   "metadata": {},
   "source": [
    "# items() method return dictionary as a tuple in list"
   ]
  },
  {
   "cell_type": "code",
   "execution_count": 13,
   "metadata": {},
   "outputs": [
    {
     "data": {
      "text/plain": [
       "dict_items([('name', {'first_name': 'Johny', 'last_name': 'Sins'}), ('address', 'Nepal'), ('subject', ['Math', 'Science']), ('phone', '9815136310')])"
      ]
     },
     "execution_count": 13,
     "metadata": {},
     "output_type": "execute_result"
    }
   ],
   "source": [
    "student.items()"
   ]
  },
  {
   "cell_type": "code",
   "execution_count": 14,
   "metadata": {},
   "outputs": [
    {
     "data": {
      "text/plain": [
       "dict_items([('brand', 'Ford'), ('model', 'Mustang'), ('year', 1964)])"
      ]
     },
     "execution_count": 14,
     "metadata": {},
     "output_type": "execute_result"
    }
   ],
   "source": [
    "car = {\n",
    "\"brand\": \"Ford\",\n",
    "\"model\": \"Mustang\",\n",
    "\"year\": 1964\n",
    "}\n",
    "\n",
    "car.items()"
   ]
  },
  {
   "cell_type": "code",
   "execution_count": 17,
   "metadata": {},
   "outputs": [
    {
     "data": {
      "text/plain": [
       "dict_items([('brand', 'Ford'), ('model', 'Mustang'), ('year', 2024)])"
      ]
     },
     "execution_count": 17,
     "metadata": {},
     "output_type": "execute_result"
    }
   ],
   "source": [
    "car = {\n",
    "\"brand\": \"Ford\",\n",
    "\"model\": \"Mustang\",\n",
    "\"year\": 1964\n",
    "}\n",
    "\n",
    "cars = car.items()\n",
    "\n",
    "car[\"year\"] = 2024\n",
    "\n",
    "cars"
   ]
  },
  {
   "cell_type": "code",
   "execution_count": 20,
   "metadata": {},
   "outputs": [
    {
     "name": "stdout",
     "output_type": "stream",
     "text": [
      "brand Ford\n",
      "model Mustang\n",
      "year 1964\n"
     ]
    }
   ],
   "source": [
    "car = {\n",
    "\"brand\": \"Ford\",\n",
    "\"model\": \"Mustang\",\n",
    "\"year\": 1964\n",
    "}\n",
    "\n",
    "item = car.items()\n",
    "\n",
    "for key, value in item:\n",
    "    print(key, value)"
   ]
  },
  {
   "cell_type": "code",
   "execution_count": 28,
   "metadata": {},
   "outputs": [
    {
     "name": "stdout",
     "output_type": "stream",
     "text": [
      "name  =  {'first_name': 'Johny', 'last_name': 'Sins'}\n",
      "address  =  Nepal\n",
      "subject  =  ['Math', 'Science']\n"
     ]
    }
   ],
   "source": [
    "student = {\n",
    "    'name' : {\n",
    "        'first_name': 'Johny',\n",
    "        'last_name' : 'Sins'\n",
    "    },\n",
    "    'address' : 'Nepal',\n",
    "    'subject' : ['Math', 'Science']\n",
    "}\n",
    "\n",
    "item = student.items()\n",
    "\n",
    "for key, value in item:\n",
    "    print(key, \" = \",value)"
   ]
  },
  {
   "cell_type": "markdown",
   "metadata": {},
   "source": [
    "# change item of dictionary\n",
    "\n",
    "* `[]` using this \n",
    "* update() method"
   ]
  },
  {
   "cell_type": "code",
   "execution_count": 31,
   "metadata": {},
   "outputs": [
    {
     "data": {
      "text/plain": [
       "{'brand': 'Ford', 'model': 'Mustang', 'year': 2024}"
      ]
     },
     "execution_count": 31,
     "metadata": {},
     "output_type": "execute_result"
    }
   ],
   "source": [
    "car = {\n",
    "\"brand\": \"Ford\",\n",
    "\"model\": \"Mustang\",\n",
    "\"year\": 1964\n",
    "}\n",
    "\n",
    "car[\"year\"] =2024\n",
    "\n",
    "car"
   ]
  },
  {
   "cell_type": "code",
   "execution_count": 33,
   "metadata": {},
   "outputs": [
    {
     "data": {
      "text/plain": [
       "dict_items([('brand', 'Ford'), ('model', 'Mustang'), ('year', 2024)])"
      ]
     },
     "execution_count": 33,
     "metadata": {},
     "output_type": "execute_result"
    }
   ],
   "source": [
    "item  = car.items()\n",
    "item"
   ]
  },
  {
   "cell_type": "code",
   "execution_count": 37,
   "metadata": {},
   "outputs": [
    {
     "name": "stdout",
     "output_type": "stream",
     "text": [
      "brand = Ford\n",
      "model = Mustang\n",
      "year = 2024\n"
     ]
    }
   ],
   "source": [
    "for key,value in item:\n",
    "    print(key, \"=\", value)"
   ]
  },
  {
   "cell_type": "markdown",
   "metadata": {},
   "source": [
    "# update() method"
   ]
  },
  {
   "cell_type": "code",
   "execution_count": 38,
   "metadata": {},
   "outputs": [
    {
     "data": {
      "text/plain": [
       "{'brand': 'Ford', 'model': 'Mustang', 'year': 2024}"
      ]
     },
     "execution_count": 38,
     "metadata": {},
     "output_type": "execute_result"
    }
   ],
   "source": [
    "car = {\n",
    "\"brand\": \"Ford\",\n",
    "\"model\": \"Mustang\",\n",
    "\"year\": 1964\n",
    "}\n",
    "\n",
    "car.update({\"year\" : 2024})\n",
    "\n",
    "car"
   ]
  },
  {
   "cell_type": "code",
   "execution_count": 65,
   "metadata": {},
   "outputs": [
    {
     "data": {
      "text/plain": [
       "{'brand': 'Ford',\n",
       " 'model': 'Mustang',\n",
       " 'year': 1964,\n",
       " 'color': 'red',\n",
       " 'price': '$500k'}"
      ]
     },
     "execution_count": 65,
     "metadata": {},
     "output_type": "execute_result"
    }
   ],
   "source": [
    "# updating multiple items\n",
    "car = {\n",
    "\"brand\": \"Ford\",\n",
    "\"model\": \"Mustang\",\n",
    "\"year\": 1964\n",
    "}\n",
    "add_item = dict({\"color\": \"red\", \"price\":\"$500k\"})\n",
    "\n",
    "car.update(add_item)\n",
    "car"
   ]
  },
  {
   "cell_type": "markdown",
   "metadata": {},
   "source": [
    "# Remove item\n",
    "\n",
    "* pop()\n",
    "* popitems()\n",
    "* del()\n",
    "* clear()"
   ]
  },
  {
   "cell_type": "code",
   "execution_count": 58,
   "metadata": {},
   "outputs": [
    {
     "name": "stdout",
     "output_type": "stream",
     "text": [
      "The item that pop is 1964\n"
     ]
    }
   ],
   "source": [
    "car = {\n",
    "\"brand\": \"Ford\",\n",
    "\"model\": \"Mustang\",\n",
    "\"year\": 1964\n",
    "}\n",
    "\n",
    "x = car.pop(\"year\")\n",
    "\n",
    "print(f\"The item that pop is {x}\")\n"
   ]
  },
  {
   "cell_type": "code",
   "execution_count": 59,
   "metadata": {},
   "outputs": [
    {
     "name": "stdout",
     "output_type": "stream",
     "text": [
      "New dictionary is : {'brand': 'Ford', 'model': 'Mustang'}\n"
     ]
    }
   ],
   "source": [
    "print(f\"New dictionary is : {car}\")"
   ]
  },
  {
   "cell_type": "code",
   "execution_count": 61,
   "metadata": {},
   "outputs": [
    {
     "data": {
      "text/plain": [
       "{'brand': 'Ford', 'color': 'Red', 'Electric': False}"
      ]
     },
     "execution_count": 61,
     "metadata": {},
     "output_type": "execute_result"
    }
   ],
   "source": [
    "# removing multiple dictionary item \n",
    "\n",
    "car = {\n",
    "\"brand\": \"Ford\",\n",
    "\"model\": \"Mustang\",\n",
    "\"year\": 1964,\n",
    "\"color\": \"Red\",\n",
    "\"price\" : \"$500k\",\n",
    "\"Electric\": False\n",
    "}\n",
    "\n",
    "remove_item = [\"year\",\"price\",\"model\"]   #it could be list or sets\n",
    "\n",
    "for item in remove_item:\n",
    "    if item in car:\n",
    "        car.pop(item)\n",
    "\n",
    "car\n"
   ]
  },
  {
   "cell_type": "code",
   "execution_count": 63,
   "metadata": {},
   "outputs": [
    {
     "data": {
      "text/plain": [
       "{'brand': 'Ford', 'color': 'Red', 'Electric': False}"
      ]
     },
     "execution_count": 63,
     "metadata": {},
     "output_type": "execute_result"
    }
   ],
   "source": [
    "car = {\n",
    "\"brand\": \"Ford\",\n",
    "\"model\": \"Mustang\",\n",
    "\"year\": 1964,\n",
    "\"color\": \"Red\",\n",
    "\"price\" : \"$500k\",\n",
    "\"Electric\": False\n",
    "}\n",
    "\n",
    "remove_item = (\"year\",\"price\",\"model\")  #it could be list or sets\n",
    "\n",
    "for item in remove_item:\n",
    "    if item in car:\n",
    "        car.pop(item)\n",
    "\n",
    "car"
   ]
  },
  {
   "cell_type": "code",
   "execution_count": 68,
   "metadata": {},
   "outputs": [
    {
     "data": {
      "text/plain": [
       "{'brand': 'Ford',\n",
       " 'model': 'Mustang',\n",
       " 'year': 1964,\n",
       " 'color': 'Red',\n",
       " 'price': '$500k'}"
      ]
     },
     "execution_count": 68,
     "metadata": {},
     "output_type": "execute_result"
    }
   ],
   "source": [
    "# pop item\n",
    "\n",
    "\n",
    "car = {\n",
    "\"brand\": \"Ford\",\n",
    "\"model\": \"Mustang\",\n",
    "\"year\": 1964,\n",
    "\"color\": \"Red\",\n",
    "\"price\" : \"$500k\",\n",
    "\"Electric\": False\n",
    "}\n",
    "\n",
    "car.popitem()\n",
    "car"
   ]
  },
  {
   "cell_type": "code",
   "execution_count": 72,
   "metadata": {},
   "outputs": [
    {
     "name": "stdout",
     "output_type": "stream",
     "text": [
      "Item Removed : ('Electric', False)\n",
      "Item Removed : ('Milege', '100km per l')\n",
      " New Item is {'brand': 'Ford', 'model': 'Mustang', 'year': 1964, 'color': 'Red', 'price': '$500k'}\n"
     ]
    }
   ],
   "source": [
    "car = {\n",
    "\"brand\": \"Ford\",\n",
    "\"model\": \"Mustang\",\n",
    "\"year\": 1964,\n",
    "\"color\": \"Red\",\n",
    "\"price\" : \"$500k\",\n",
    "\"Electric\": False\n",
    "}\n",
    "\n",
    "x = car.popitem()\n",
    "\n",
    "print(f\"Item Removed : {x}\")\n",
    "\n",
    "\n",
    "car.update({\"Milege\":\"100km per l\"})\n",
    "\n",
    "x = car.popitem()\n",
    "\n",
    "print(f\"Item Removed : {x}\")\n",
    "\n",
    "print(f\" New Item is {car}\")"
   ]
  },
  {
   "cell_type": "markdown",
   "metadata": {},
   "source": [
    "# last item added is removed in popitem and it doesnot take argument"
   ]
  },
  {
   "cell_type": "markdown",
   "metadata": {},
   "source": [
    "# del() function delete the dictionary of **particular** item or entire dictionary"
   ]
  },
  {
   "cell_type": "code",
   "execution_count": 73,
   "metadata": {},
   "outputs": [
    {
     "data": {
      "text/plain": [
       "{'brand': 'Ford',\n",
       " 'model': 'Mustang',\n",
       " 'year': 1964,\n",
       " 'price': '$500k',\n",
       " 'Electric': False}"
      ]
     },
     "execution_count": 73,
     "metadata": {},
     "output_type": "execute_result"
    }
   ],
   "source": [
    "car = {\n",
    "\"brand\": \"Ford\",\n",
    "\"model\": \"Mustang\",\n",
    "\"year\": 1964,\n",
    "\"color\": \"Red\",\n",
    "\"price\" : \"$500k\",\n",
    "\"Electric\": False\n",
    "}\n",
    "\n",
    "\n",
    "del car[\"color\"]\n",
    "\n",
    "car"
   ]
  },
  {
   "cell_type": "code",
   "execution_count": 74,
   "metadata": {},
   "outputs": [
    {
     "data": {
      "text/plain": [
       "{'brand': 'Ford', 'model': 'Mustang', 'year': 1964, 'price': '$500k'}"
      ]
     },
     "execution_count": 74,
     "metadata": {},
     "output_type": "execute_result"
    }
   ],
   "source": [
    "del car[\"Electric\"]\n",
    "\n",
    "car"
   ]
  },
  {
   "cell_type": "code",
   "execution_count": 75,
   "metadata": {},
   "outputs": [
    {
     "data": {
      "text/plain": [
       "{'model': 'Mustang', 'year': 1964, 'price': '$500k'}"
      ]
     },
     "execution_count": 75,
     "metadata": {},
     "output_type": "execute_result"
    }
   ],
   "source": [
    "del car[\"brand\"]\n",
    "\n",
    "car"
   ]
  },
  {
   "cell_type": "code",
   "execution_count": 87,
   "metadata": {},
   "outputs": [
    {
     "data": {
      "text/plain": [
       "{'model': 'Mustang', 'year': 1964, 'price': '$500k', 'Electric': False}"
      ]
     },
     "execution_count": 87,
     "metadata": {},
     "output_type": "execute_result"
    }
   ],
   "source": [
    "# using loop deleting multiple value electric, brand and color\n",
    "\n",
    "car = {\n",
    "\"brand\": \"Ford\",\n",
    "\"model\": \"Mustang\",\n",
    "\"year\": 1964,\n",
    "\"color\": \"Red\",\n",
    "\"price\" : \"$500k\",\n",
    "\"Electric\": False\n",
    "}\n",
    "\n",
    "\n",
    "remove_item = [\"electric\",\"brand\",\"color\"]\n",
    "\n",
    "\n",
    "for item in remove_item:\n",
    " \n",
    "    if item in car:\n",
    "        del car[item]\n",
    "\n",
    "car"
   ]
  },
  {
   "cell_type": "code",
   "execution_count": 110,
   "metadata": {},
   "outputs": [
    {
     "name": "stdout",
     "output_type": "stream",
     "text": [
      "brand\n",
      "model\n",
      "year\n",
      "color\n",
      "price\n",
      "electric\n"
     ]
    }
   ],
   "source": [
    "# above example doesnot delete electric because python is case sensitive so ELectric and electric are different \n",
    "\n",
    "# fixed code\n",
    "\n",
    "car = {\n",
    "    \"brand\": \"Ford\",\n",
    "    \"model\": \"Mustang\",\n",
    "    \"year\": 1964,\n",
    "    \"color\": \"Red\",\n",
    "    \"price\": \"$500k\",\n",
    "    \"Electric\": False\n",
    "}\n",
    "\n",
    "\n",
    "\n",
    "for key in car:\n",
    "   x = key.lower()\n",
    "   print(x)"
   ]
  },
  {
   "cell_type": "code",
   "execution_count": 168,
   "metadata": {},
   "outputs": [
    {
     "data": {
      "text/plain": [
       "{'model': 'Mustang', 'year': 1964, 'price': '$500k'}"
      ]
     },
     "execution_count": 168,
     "metadata": {},
     "output_type": "execute_result"
    }
   ],
   "source": [
    "# Step 1: Change remove item to lower case and store in new list\n",
    "# step 2: Change key value of car in lower case\n",
    "\n",
    "\n",
    "car = {\n",
    "    \"brand\": \"Ford\",\n",
    "    \"model\": \"Mustang\",\n",
    "    \"year\": 1964,\n",
    "    \"color\": \"Red\",\n",
    "    \"price\": \"$500k\",\n",
    "    \"Electric\": False\n",
    "}\n",
    "\n",
    "lower_car={}\n",
    "remove_items = [\"electric\",\"Brand\",\"color\"]\n",
    "\n",
    "rm_item =[]\n",
    "\n",
    "for item in remove_items:\n",
    "    rm_item.append(item.lower())\n",
    "\n",
    "for key,value in car.items():\n",
    "   key = key.lower()\n",
    "   lower_car[key] = value\n",
    "\n",
    "\n",
    "for rm_items in rm_item:\n",
    "    \n",
    "    if rm_items in lower_car:\n",
    "        del lower_car[rm_items]\n",
    "\n",
    "lower_car"
   ]
  },
  {
   "cell_type": "code",
   "execution_count": 188,
   "metadata": {},
   "outputs": [
    {
     "data": {
      "text/plain": [
       "{'model': 'Mustang', 'year': 1964, 'price': '$500k'}"
      ]
     },
     "execution_count": 188,
     "metadata": {},
     "output_type": "execute_result"
    }
   ],
   "source": [
    "car = {\n",
    "    \"brand\": \"Ford\",\n",
    "    \"model\": \"Mustang\",\n",
    "    \"year\": 1964,\n",
    "    \"color\": \"Red\",\n",
    "    \"price\": \"$500k\",\n",
    "    \"Electric\": False\n",
    "}\n",
    "\n",
    "remove_items = [\"electric\",\"Brand\",\"ColOR\"]\n",
    "\n",
    "for item in remove_item:\n",
    "    \n",
    "    if item.lower() in car:\n",
    "        del car[item.lower()]\n",
    "    elif item.upper() in car:\n",
    "        del car[item.upper()]\n",
    "    else:\n",
    "        del car[item.capitalize()]\n",
    "       \n",
    "car\n"
   ]
  },
  {
   "cell_type": "markdown",
   "metadata": {},
   "source": [
    "# Swap key, val in given dictionary\n"
   ]
  },
  {
   "cell_type": "code",
   "execution_count": 1,
   "metadata": {},
   "outputs": [],
   "source": [
    "d = {1: 'a', 2:'b', 3:'c'}\n",
    "# expected output {\"a\": 1, \"b\": 2, \"c\": 3}"
   ]
  },
  {
   "cell_type": "code",
   "execution_count": 23,
   "metadata": {},
   "outputs": [
    {
     "name": "stdout",
     "output_type": "stream",
     "text": [
      "'1':a\n",
      "'2':b\n",
      "'3':c\n"
     ]
    }
   ],
   "source": [
    "d = {1: 'a', 2:'b', 3:'c'}\n",
    "for item in d:\n",
    "  print(f\"'{item}':{d[item]}\")"
   ]
  },
  {
   "cell_type": "code",
   "execution_count": 22,
   "metadata": {},
   "outputs": [
    {
     "name": "stdout",
     "output_type": "stream",
     "text": [
      "1 : a\n",
      "2 : b\n",
      "3 : c\n"
     ]
    }
   ],
   "source": [
    "d = {1: 'a', 2:'b', 3:'c'}\n",
    "for item in d:\n",
    "  print(item,\":\",d[item])"
   ]
  },
  {
   "cell_type": "markdown",
   "metadata": {},
   "source": [
    "# above method is not a ideal way"
   ]
  },
  {
   "cell_type": "code",
   "execution_count": 34,
   "metadata": {},
   "outputs": [
    {
     "data": {
      "text/plain": [
       "{'a': 1, 'b': 2, 'c': 3}"
      ]
     },
     "execution_count": 34,
     "metadata": {},
     "output_type": "execute_result"
    }
   ],
   "source": [
    "d = {1: 'a', 2:'b', 3:'c'}\n",
    "n={}\n",
    "for key,value in d.items():\n",
    "    n.update({value:key})\n",
    "n"
   ]
  },
  {
   "cell_type": "code",
   "execution_count": 35,
   "metadata": {},
   "outputs": [
    {
     "data": {
      "text/plain": [
       "{'a': 1, 'b': 2, 'c': 3}"
      ]
     },
     "execution_count": 35,
     "metadata": {},
     "output_type": "execute_result"
    }
   ],
   "source": [
    "d = {1: 'a', 2:'b', 3:'c'}\n",
    "n={}\n",
    "for key,value in d.items():\n",
    "    n[value] = key\n",
    "n"
   ]
  },
  {
   "cell_type": "code",
   "execution_count": 57,
   "metadata": {},
   "outputs": [
    {
     "data": {
      "text/plain": [
       "{1: 'a', 2: 'b', 3: 'c'}"
      ]
     },
     "execution_count": 57,
     "metadata": {},
     "output_type": "execute_result"
    }
   ],
   "source": [
    "d = {1: 'a', 2:'b', 3:'c'}\n",
    "temp ={}\n",
    "for key,value in d.items():\n",
    "   temp[value] = key\n",
    "\n",
    "if any(item in temp for item in d):\n",
    "    d.update(item)\n",
    "else:\n",
    "    pass\n",
    "d  "
   ]
  },
  {
   "cell_type": "code",
   "execution_count": null,
   "metadata": {},
   "outputs": [],
   "source": []
  }
 ],
 "metadata": {
  "kernelspec": {
   "display_name": "Python 3",
   "language": "python",
   "name": "python3"
  },
  "language_info": {
   "codemirror_mode": {
    "name": "ipython",
    "version": 3
   },
   "file_extension": ".py",
   "mimetype": "text/x-python",
   "name": "python",
   "nbconvert_exporter": "python",
   "pygments_lexer": "ipython3",
   "version": "3.11.5"
  }
 },
 "nbformat": 4,
 "nbformat_minor": 2
}
