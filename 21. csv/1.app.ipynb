{
 "cells": [
  {
   "cell_type": "markdown",
   "metadata": {},
   "source": [
    "# CSV \n",
    "* Comma Seperated Values allow to read and write values of excelsheet or googlesheet and formatted as spreadsheet\n"
   ]
  },
  {
   "cell_type": "markdown",
   "metadata": {},
   "source": [
    "# Writing csv\n",
    "\n",
    "* writer()\n",
    "* writerows()"
   ]
  },
  {
   "cell_type": "code",
   "execution_count": 1,
   "metadata": {},
   "outputs": [],
   "source": [
    "import csv"
   ]
  },
  {
   "cell_type": "code",
   "execution_count": 13,
   "metadata": {},
   "outputs": [],
   "source": [
    "with open(\"example.csv\",  \"w\", newline=\"\") as csvfile:\n",
    "    write = csv.writer(csvfile, quotechar=\"|\", quoting=csv.QUOTE_MINIMAL)\n",
    "\n",
    "    write.writerow(['name', 'age', 'address'])\n",
    "\n",
    "    "
   ]
  },
  {
   "cell_type": "code",
   "execution_count": 14,
   "metadata": {},
   "outputs": [
    {
     "name": "stdout",
     "output_type": "stream",
     "text": [
      "['name', 'age', 'address']\n"
     ]
    }
   ],
   "source": [
    "with open(\"example.csv\",  \"r\", newline=\"\") as csvfile:\n",
    "    reader = csv.reader(csvfile)\n",
    "\n",
    "    for row in reader:\n",
    "        print(row)"
   ]
  },
  {
   "cell_type": "code",
   "execution_count": 17,
   "metadata": {},
   "outputs": [],
   "source": [
    "list = [\n",
    "\n",
    "['name', 'age', 'address'],\n",
    "['Arjun', 24, 'Nepal'],\n",
    "['John', 34, 'Canada'],\n",
    "]\n",
    "with open(\"example.csv\",  \"w\", newline=\"\") as csvfile:\n",
    "    write = csv.writer(csvfile,delimiter=\" \", quotechar=\"|\", quoting=csv.QUOTE_MINIMAL)\n",
    "\n",
    "    write.writerow(list)"
   ]
  },
  {
   "cell_type": "code",
   "execution_count": 18,
   "metadata": {},
   "outputs": [
    {
     "name": "stdout",
     "output_type": "stream",
     "text": [
      "[\"|['name'\", \" 'age'\", \" 'address']| |['Arjun'\", ' 24', \" 'Nepal']| |['John'\", ' 34', \" 'Canada']|\"]\n"
     ]
    }
   ],
   "source": [
    "with open(\"example.csv\",  \"r\", newline=\"\") as csvfile:\n",
    "    reader = csv.reader(csvfile)\n",
    "\n",
    "    for row in reader:\n",
    "        print(row)"
   ]
  },
  {
   "cell_type": "code",
   "execution_count": null,
   "metadata": {},
   "outputs": [],
   "source": []
  },
  {
   "cell_type": "code",
   "execution_count": 19,
   "metadata": {},
   "outputs": [],
   "source": [
    "csvfile = open(\"example2.csv\", \"w\", encoding=\"utf-8\")\n",
    "\n",
    "c = csv.writer(csvfile)\n",
    "\n",
    "c.writerow(['name','address','job'])\n",
    "\n",
    "the_list = [\n",
    "    ['Alice', 'Gainesville, Florida', 'chef'],\n",
    "    ['Bob', 'Chicago, Illinois', 'writer'],\n",
    "    ['Ted', 'Miami, Florida', 'driver'],\n",
    "    ['Carol', 'Portland, Oregon', 'executive']\n",
    "]\n",
    "\n",
    "for item in the_list:\n",
    "\n",
    "    c.writerow(item)\n",
    "\n",
    "csvfile.close()"
   ]
  },
  {
   "cell_type": "code",
   "execution_count": 24,
   "metadata": {},
   "outputs": [
    {
     "name": "stdout",
     "output_type": "stream",
     "text": [
      "['name', 'address', 'job']\n",
      "[]\n",
      "['Alice', 'Gainesville, Florida', 'chef']\n",
      "[]\n",
      "['Bob', 'Chicago, Illinois', 'writer']\n",
      "[]\n",
      "['Ted', 'Miami, Florida', 'driver']\n",
      "[]\n",
      "['Carol', 'Portland, Oregon', 'executive']\n",
      "[]\n"
     ]
    }
   ],
   "source": [
    "with open(\"example2.csv\", \"r\") as csvfile:\n",
    "    c = csv.reader(csvfile)\n",
    "\n",
    "    for row in c:\n",
    "        print( row)"
   ]
  },
  {
   "cell_type": "markdown",
   "metadata": {},
   "source": [
    "# dictionary reader and writer\n",
    "\n",
    "* Dictwriter(obj, header)\n"
   ]
  },
  {
   "cell_type": "code",
   "execution_count": 25,
   "metadata": {},
   "outputs": [
    {
     "name": "stdout",
     "output_type": "stream",
     "text": [
      "{'name': 'Alice', 'address': 'Gainesville, Florida', 'job': 'chef'}\n",
      "{'name': 'Bob', 'address': 'Chicago, Illinois', 'job': 'writer'}\n",
      "{'name': 'Ted', 'address': 'Miami, Florida', 'job': 'driver'}\n",
      "{'name': 'Carol', 'address': 'Portland, Oregon', 'job': 'executive'}\n"
     ]
    }
   ],
   "source": [
    "with open(\"example2.csv\", 'r') as csvfile:\n",
    "    reader = csv.DictReader(csvfile)\n",
    "\n",
    "    for row in reader:\n",
    "        print(row)"
   ]
  },
  {
   "cell_type": "code",
   "execution_count": 30,
   "metadata": {},
   "outputs": [
    {
     "name": "stdout",
     "output_type": "stream",
     "text": [
      " name = Alice  job = chef\n",
      " name = Bob  job = writer\n",
      " name = Ted  job = driver\n",
      " name = Carol  job = executive\n"
     ]
    }
   ],
   "source": [
    "with open(\"example2.csv\", 'r') as csvfile:\n",
    "    reader = csv.DictReader(csvfile)\n",
    "\n",
    "    for row in reader:\n",
    "        print(f\" name = {row['name']}  job = {row['job']}\")"
   ]
  },
  {
   "cell_type": "code",
   "execution_count": 31,
   "metadata": {},
   "outputs": [],
   "source": [
    "header =  ['Presidency', 'President', 'Wikipedia_entry', 'Took_office', 'Left_office', 'Party', 'Home_state', 'Occupation', 'College', 'Age_when_took_office', 'Birth_date', 'Birthplace', 'Death_date', 'Location_death']\n",
    "\n",
    "presidents_list = [\n",
    "{\"Presidency\":1,\"President\":\"George Washington\",\"Wikipedia_entry\":\"http://en.wikipedia.org/wiki/George_Washington\",\"Took_office\":\"4/30/1789\",\"Left_office\":\"3/4/1797\",\"Party\":\"Independent \",\"Home_state\":\"Virginia\",\"Occupation\":\"Planter\",\"College\":\"None\",\"Age_when_took_office\":57,\"Birth_date\":\"2/22/1732\",\"Birthplace\":\"Westmoreland County, Virginia\",\"Death_date\":\"12/14/1799\",\"Location_death\":\"Mount Vernon, Virginia\"},\n",
    "{\"Presidency\":2,\"President\":\"John Adams\",\"Wikipedia_entry\":\"http://en.wikipedia.org/wiki/John_Adams\",\"Took_office\":\"3/4/1797\",\"Left_office\":\"3/4/1801\",\"Party\":\"Federalist \",\"Home_state\":\"Massachusetts\",\"Occupation\":\"Lawyer\",\"College\":\"Harvard\",\"Age_when_took_office\":61,\"Birth_date\":\"10/30/1735\",\"Birthplace\":\"Quincy, Massachusetts\",\"Death_date\":\"7/4/1826\",\"Location_death\":\"Quincy, Massachusetts\"},\n",
    "{\"Presidency\":3,\"President\":\"Thomas Jefferson\",\"Wikipedia_entry\":\"http://en.wikipedia.org/wiki/Thomas_Jefferson\",\"Took_office\":\"3/4/1801\",\"Left_office\":\"3/4/1809\",\"Party\":\"Democratic-Republican \",\"Home_state\":\"Virginia\",\"Occupation\":\"Planter, Lawyer\",\"College\":\"William and Mary\",\"Age_when_took_office\":57,\"Birth_date\":\"4/13/1743\",\"Birthplace\":\"Albemarle County, Virginia\",\"Death_date\":\"7/4/1826\",\"Location_death\":\"Albemarle County, Virginia\"},\n",
    "{\"Presidency\":4,\"President\":\"James Madison\",\"Wikipedia_entry\":\"http://en.wikipedia.org/wiki/James_Madison\",\"Took_office\":\"3/4/1809\",\"Left_office\":\"3/4/1817\",\"Party\":\"Democratic-Republican \",\"Home_state\":\"Virginia\",\"Occupation\":\"Lawyer\",\"College\":\"Princeton\",\"Age_when_took_office\":57,\"Birth_date\":\"3/16/1751\",\"Birthplace\":\"Port Conway, Virginia\",\"Death_date\":\"6/28/1836\",\"Location_death\":\"Orange County, Virginia\"},\n",
    "{\"Presidency\":5,\"President\":\"James Monroe\",\"Wikipedia_entry\":\"http://en.wikipedia.org/wiki/James_Monroe\",\"Took_office\":\"3/4/1817\",\"Left_office\":\"3/4/1825\",\"Party\":\"Democratic-Republican \",\"Home_state\":\"Virginia\",\"Occupation\":\"Lawyer\",\"College\":\"William and Mary\",\"Age_when_took_office\":58,\"Birth_date\":\"4/28/1758\",\"Birthplace\":\"Westmoreland County, Virginia\",\"Death_date\":\"7/4/1831\",\"Location_death\":\"New York, New York\"}\n",
    "]\n",
    "\n",
    "with open(\"example3.csv\", 'w') as csvfile:\n",
    "\n",
    "    write = csv.DictWriter(csvfile, header)\n",
    "\n",
    "    write.writeheader()\n",
    "\n",
    "    write.writerows(presidents_list)"
   ]
  },
  {
   "cell_type": "code",
   "execution_count": 32,
   "metadata": {},
   "outputs": [
    {
     "name": "stdout",
     "output_type": "stream",
     "text": [
      "{'Presidency': '1', 'President': 'George Washington', 'Wikipedia_entry': 'http://en.wikipedia.org/wiki/George_Washington', 'Took_office': '4/30/1789', 'Left_office': '3/4/1797', 'Party': 'Independent ', 'Home_state': 'Virginia', 'Occupation': 'Planter', 'College': 'None', 'Age_when_took_office': '57', 'Birth_date': '2/22/1732', 'Birthplace': 'Westmoreland County, Virginia', 'Death_date': '12/14/1799', 'Location_death': 'Mount Vernon, Virginia'}\n",
      "{'Presidency': '2', 'President': 'John Adams', 'Wikipedia_entry': 'http://en.wikipedia.org/wiki/John_Adams', 'Took_office': '3/4/1797', 'Left_office': '3/4/1801', 'Party': 'Federalist ', 'Home_state': 'Massachusetts', 'Occupation': 'Lawyer', 'College': 'Harvard', 'Age_when_took_office': '61', 'Birth_date': '10/30/1735', 'Birthplace': 'Quincy, Massachusetts', 'Death_date': '7/4/1826', 'Location_death': 'Quincy, Massachusetts'}\n",
      "{'Presidency': '3', 'President': 'Thomas Jefferson', 'Wikipedia_entry': 'http://en.wikipedia.org/wiki/Thomas_Jefferson', 'Took_office': '3/4/1801', 'Left_office': '3/4/1809', 'Party': 'Democratic-Republican ', 'Home_state': 'Virginia', 'Occupation': 'Planter, Lawyer', 'College': 'William and Mary', 'Age_when_took_office': '57', 'Birth_date': '4/13/1743', 'Birthplace': 'Albemarle County, Virginia', 'Death_date': '7/4/1826', 'Location_death': 'Albemarle County, Virginia'}\n",
      "{'Presidency': '4', 'President': 'James Madison', 'Wikipedia_entry': 'http://en.wikipedia.org/wiki/James_Madison', 'Took_office': '3/4/1809', 'Left_office': '3/4/1817', 'Party': 'Democratic-Republican ', 'Home_state': 'Virginia', 'Occupation': 'Lawyer', 'College': 'Princeton', 'Age_when_took_office': '57', 'Birth_date': '3/16/1751', 'Birthplace': 'Port Conway, Virginia', 'Death_date': '6/28/1836', 'Location_death': 'Orange County, Virginia'}\n",
      "{'Presidency': '5', 'President': 'James Monroe', 'Wikipedia_entry': 'http://en.wikipedia.org/wiki/James_Monroe', 'Took_office': '3/4/1817', 'Left_office': '3/4/1825', 'Party': 'Democratic-Republican ', 'Home_state': 'Virginia', 'Occupation': 'Lawyer', 'College': 'William and Mary', 'Age_when_took_office': '58', 'Birth_date': '4/28/1758', 'Birthplace': 'Westmoreland County, Virginia', 'Death_date': '7/4/1831', 'Location_death': 'New York, New York'}\n"
     ]
    }
   ],
   "source": [
    "with open(\"example3.csv\", 'r') as csvfile:\n",
    "\n",
    "    reader = csv.DictReader(csvfile)\n",
    "\n",
    "    for item in reader:\n",
    "\n",
    "        print(item)"
   ]
  },
  {
   "cell_type": "code",
   "execution_count": null,
   "metadata": {},
   "outputs": [],
   "source": []
  }
 ],
 "metadata": {
  "kernelspec": {
   "display_name": "Python 3",
   "language": "python",
   "name": "python3"
  },
  "language_info": {
   "codemirror_mode": {
    "name": "ipython",
    "version": 3
   },
   "file_extension": ".py",
   "mimetype": "text/x-python",
   "name": "python",
   "nbconvert_exporter": "python",
   "pygments_lexer": "ipython3",
   "version": "3.11.5"
  }
 },
 "nbformat": 4,
 "nbformat_minor": 2
}
