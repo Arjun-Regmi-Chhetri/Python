{
 "cells": [
  {
   "cell_type": "code",
   "execution_count": 4,
   "id": "d43ae63e-efa0-403a-8e1f-7692b5596e5b",
   "metadata": {},
   "outputs": [
    {
     "name": "stdout",
     "output_type": "stream",
     "text": [
      "Enter radius :  3\n"
     ]
    },
    {
     "data": {
      "text/plain": [
       "28.274333882308138"
      ]
     },
     "execution_count": 4,
     "metadata": {},
     "output_type": "execute_result"
    }
   ],
   "source": [
    "import math\n",
    "class Circle:\n",
    "    def __init__(self, r):\n",
    "        self.r = r \n",
    "    def area(self):\n",
    "        return math.pi * self.r **2\n",
    "        \n",
    "r = float(input(\"Enter radius : \"))\n",
    "\n",
    "c1 = Circle(r)\n",
    "\n",
    "c1.area()"
   ]
  },
  {
   "cell_type": "code",
   "execution_count": 8,
   "id": "ce0a484e-cddb-4163-83a1-cddbee1313a9",
   "metadata": {},
   "outputs": [
    {
     "name": "stdout",
     "output_type": "stream",
     "text": [
      "Enter radius :  10\n"
     ]
    },
    {
     "data": {
      "text/plain": [
       "314.1592653589793"
      ]
     },
     "execution_count": 8,
     "metadata": {},
     "output_type": "execute_result"
    }
   ],
   "source": [
    "r = float(input(\"Enter radius : \"))\n",
    "c2 = Circle(r)\n",
    "c2.area()"
   ]
  },
  {
   "cell_type": "code",
   "execution_count": 8,
   "id": "170171c1-c126-485a-865f-aafba8674668",
   "metadata": {},
   "outputs": [
    {
     "name": "stdout",
     "output_type": "stream",
     "text": [
      "name = Johny Sins,  age = 45\n"
     ]
    }
   ],
   "source": [
    "class Person:\n",
    "\n",
    "    def __init__(self, name, age):\n",
    "        self.name = name\n",
    "        self.age = age\n",
    "\n",
    "    def __str__(self):\n",
    "        return f\"name = {self.name},  age = {self.age}\"\n",
    "\n",
    "p1 = Person(\"Johny Sins\", 45)\n",
    "\n",
    "print(p1)"
   ]
  },
  {
   "cell_type": "code",
   "execution_count": 9,
   "id": "085c4659",
   "metadata": {},
   "outputs": [
    {
     "data": {
      "text/plain": [
       "__main__.Person"
      ]
     },
     "execution_count": 9,
     "metadata": {},
     "output_type": "execute_result"
    }
   ],
   "source": [
    "type(p1)"
   ]
  },
  {
   "cell_type": "code",
   "execution_count": null,
   "id": "260db258",
   "metadata": {},
   "outputs": [],
   "source": []
  }
 ],
 "metadata": {
  "kernelspec": {
   "display_name": "Python 3 (ipykernel)",
   "language": "python",
   "name": "python3"
  },
  "language_info": {
   "codemirror_mode": {
    "name": "ipython",
    "version": 3
   },
   "file_extension": ".py",
   "mimetype": "text/x-python",
   "name": "python",
   "nbconvert_exporter": "python",
   "pygments_lexer": "ipython3",
   "version": "3.11.5"
  }
 },
 "nbformat": 4,
 "nbformat_minor": 5
}
