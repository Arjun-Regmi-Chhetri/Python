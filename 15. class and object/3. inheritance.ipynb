{
 "cells": [
  {
   "cell_type": "markdown",
   "metadata": {},
   "source": [
    "# Inheritance \n",
    "* Inheritance means inheriting method and attributes of one class i.e parent class to child class\n"
   ]
  },
  {
   "cell_type": "code",
   "execution_count": 4,
   "metadata": {},
   "outputs": [
    {
     "data": {
      "text/plain": [
       "True"
      ]
     },
     "execution_count": 4,
     "metadata": {},
     "output_type": "execute_result"
    }
   ],
   "source": [
    "class Mammal:\n",
    "    hair = True\n",
    "    wings = False\n",
    "\n",
    "class Human(Mammal):\n",
    "    eyes = True\n",
    "\n",
    "h1 = Human()\n",
    "h1.hair"
   ]
  },
  {
   "cell_type": "code",
   "execution_count": 5,
   "metadata": {},
   "outputs": [
    {
     "data": {
      "text/plain": [
       "True"
      ]
     },
     "execution_count": 5,
     "metadata": {},
     "output_type": "execute_result"
    }
   ],
   "source": [
    "h1.eyes"
   ]
  },
  {
   "cell_type": "code",
   "execution_count": 6,
   "metadata": {},
   "outputs": [
    {
     "data": {
      "text/plain": [
       "False"
      ]
     },
     "execution_count": 6,
     "metadata": {},
     "output_type": "execute_result"
    }
   ],
   "source": [
    "h1.wings"
   ]
  },
  {
   "cell_type": "code",
   "execution_count": 26,
   "metadata": {},
   "outputs": [],
   "source": [
    "class Computer:\n",
    "\n",
    "    def __init__(self, model):\n",
    "\n",
    "        self.model = model\n",
    "\n",
    "    def show_model(self):\n",
    "        print(f\"Your model is {self.model}\")\n",
    "    \n",
    "class Mobile(Computer):\n",
    "\n",
    "    def __init__(self, brand, model):\n",
    "\n",
    "        self.brand = brand\n",
    "\n",
    "        super().__init__(model)\n",
    "    \n",
    "    def show_brand(self):\n",
    "        return f\" Your brand is {self.brand}\"\n",
    "    \n"
   ]
  },
  {
   "cell_type": "code",
   "execution_count": 27,
   "metadata": {},
   "outputs": [
    {
     "name": "stdout",
     "output_type": "stream",
     "text": [
      "Samsung\n"
     ]
    }
   ],
   "source": [
    "m1 = Mobile(brand = 'Samsung' , model = 's24')\n",
    "\n",
    "print(m1.brand)"
   ]
  },
  {
   "cell_type": "code",
   "execution_count": 23,
   "metadata": {},
   "outputs": [
    {
     "name": "stdout",
     "output_type": "stream",
     "text": [
      "s24\n"
     ]
    }
   ],
   "source": [
    "print(m1.model)"
   ]
  },
  {
   "cell_type": "code",
   "execution_count": 24,
   "metadata": {},
   "outputs": [
    {
     "name": "stdout",
     "output_type": "stream",
     "text": [
      "Your model is s24\n"
     ]
    }
   ],
   "source": [
    "m1.show_model()"
   ]
  },
  {
   "cell_type": "code",
   "execution_count": 28,
   "metadata": {},
   "outputs": [
    {
     "data": {
      "text/plain": [
       "' Your brand is Samsung'"
      ]
     },
     "execution_count": 28,
     "metadata": {},
     "output_type": "execute_result"
    }
   ],
   "source": [
    "m1.show_brand()"
   ]
  },
  {
   "cell_type": "code",
   "execution_count": 32,
   "metadata": {},
   "outputs": [],
   "source": [
    "class Person:\n",
    "\n",
    "    def __init__(self, fname, lname):\n",
    "\n",
    "        self.fname = fname\n",
    "        self.lname = lname\n",
    "    \n",
    "    def show_info(self):\n",
    "        return f\"{self.fname} {self.lname}\"\n",
    "\n"
   ]
  },
  {
   "cell_type": "code",
   "execution_count": 33,
   "metadata": {},
   "outputs": [
    {
     "data": {
      "text/plain": [
       "'John Cena'"
      ]
     },
     "execution_count": 33,
     "metadata": {},
     "output_type": "execute_result"
    }
   ],
   "source": [
    "class Student(Person):\n",
    "    pass\n",
    "\n",
    "s1 = Student(\"John\", \"Cena\")\n",
    "\n",
    "s1.show_info()"
   ]
  },
  {
   "cell_type": "code",
   "execution_count": 34,
   "metadata": {},
   "outputs": [
    {
     "data": {
      "text/plain": [
       "'John Cena'"
      ]
     },
     "execution_count": 34,
     "metadata": {},
     "output_type": "execute_result"
    }
   ],
   "source": [
    "class Student(Person):\n",
    "\n",
    "    def __init__(self, firstname, lastname, year):\n",
    "        super().__init__(firstname, lastname)\n",
    "        self.year = year\n",
    "\n",
    "    def show_year(self):\n",
    "\n",
    "        return f\"{self.year}\"\n",
    "\n",
    "s1 = Student(\"John\", \"Cena\", 2024)\n",
    "\n",
    "s1.show_info()"
   ]
  },
  {
   "cell_type": "code",
   "execution_count": 35,
   "metadata": {},
   "outputs": [
    {
     "data": {
      "text/plain": [
       "'2024'"
      ]
     },
     "execution_count": 35,
     "metadata": {},
     "output_type": "execute_result"
    }
   ],
   "source": [
    "s1.show_year()"
   ]
  },
  {
   "cell_type": "code",
   "execution_count": 36,
   "metadata": {},
   "outputs": [],
   "source": [
    "# parent class\n",
    "\n",
    "class Person:\n",
    "\n",
    "    def __init__(self, name):\n",
    "        self.name = name\n",
    "    \n",
    "    def getName(self):\n",
    "        return self.name\n",
    "    \n",
    "    def isEmployed(self):\n",
    "        return False\n",
    "\n"
   ]
  },
  {
   "cell_type": "code",
   "execution_count": 40,
   "metadata": {},
   "outputs": [],
   "source": [
    "# child class\n",
    "\n",
    "class Employee(Person):     # inheriting Person classs\n",
    "\n",
    "    def __init__(self, name):\n",
    "        super().__init__(name)\n",
    "    \n",
    "    def isEmployed(self):\n",
    "        return True"
   ]
  },
  {
   "cell_type": "code",
   "execution_count": 41,
   "metadata": {},
   "outputs": [
    {
     "name": "stdout",
     "output_type": "stream",
     "text": [
      "Arjun False\n",
      "Elon Musk True\n"
     ]
    }
   ],
   "source": [
    "# object\n",
    "\n",
    "p1 = Person(\"Arjun\")\n",
    "print(p1.getName(), p1.isEmployed())\n",
    "\n",
    "\n",
    "e1 = Employee(\"Elon Musk\")\n",
    "print(e1.getName(), e1.isEmployed())\n"
   ]
  },
  {
   "cell_type": "code",
   "execution_count": 47,
   "metadata": {},
   "outputs": [
    {
     "name": "stdout",
     "output_type": "stream",
     "text": [
      "Arjun\n",
      "2056\n",
      "0\n",
      "Intern\n"
     ]
    }
   ],
   "source": [
    "class Person:\n",
    "\n",
    "    def __init__(self, name, idnumber):\n",
    "\n",
    "        self.name = name\n",
    "        self.idnumber = idnumber\n",
    "    \n",
    "    def display(self):\n",
    "        print(self.name)\n",
    "        print(self.idnumber)\n",
    "\n",
    "class Employee(Person):\n",
    "\n",
    "    def __init__(self, name, idnumber, salary, post):\n",
    "        self.salary = salary\n",
    "        self.post = post\n",
    "\n",
    "        super().__init__(name, idnumber)\n",
    "\n",
    "    def display(self):\n",
    "        super().display()        # ---------take the attribute of display function of parent class -----\n",
    "        print(self.salary)\n",
    "        print(self.post)\n",
    "\n",
    "e1 = Employee(\"Arjun\", 2056, 0, \"Intern\")\n",
    "\n",
    "e1.display()"
   ]
  },
  {
   "cell_type": "markdown",
   "metadata": {},
   "source": [
    "# mutiple inheritance\n"
   ]
  },
  {
   "cell_type": "code",
   "execution_count": 52,
   "metadata": {},
   "outputs": [
    {
     "name": "stdout",
     "output_type": "stream",
     "text": [
      "Base1\n",
      "Base2\n",
      "Derived\n"
     ]
    },
    {
     "data": {
      "text/plain": [
       "<__main__.Derived at 0x1fa43170990>"
      ]
     },
     "execution_count": 52,
     "metadata": {},
     "output_type": "execute_result"
    }
   ],
   "source": [
    "class Base1:\n",
    "\n",
    "    def __init__(self):\n",
    "        print(\"Base1\")\n",
    "\n",
    "class Base2:\n",
    "\n",
    "    def __init__(self):\n",
    "        print(\"Base2\")\n",
    "\n",
    "class Derived(Base1, Base2):\n",
    "\n",
    "    def __init__(self):\n",
    "\n",
    "        Base1.__init__(self)\n",
    "        Base2.__init__(self)\n",
    "        print(\"Derived\")\n",
    "\n",
    "d = Derived()\n",
    "\n",
    "d"
   ]
  },
  {
   "cell_type": "markdown",
   "metadata": {},
   "source": [
    "# multilevel inheritance"
   ]
  },
  {
   "cell_type": "code",
   "execution_count": 53,
   "metadata": {},
   "outputs": [
    {
     "name": "stdout",
     "output_type": "stream",
     "text": [
      "Animal speaks\n",
      "Dog barks loud\n",
      "Puppy walk\n"
     ]
    },
    {
     "data": {
      "text/plain": [
       "<__main__.Puppy at 0x1fa431a4bd0>"
      ]
     },
     "execution_count": 53,
     "metadata": {},
     "output_type": "execute_result"
    }
   ],
   "source": [
    "class Animal:\n",
    "\n",
    "    def __init__(self):\n",
    "        print(\"Animal speaks\")\n",
    "\n",
    "class Dog(Animal):\n",
    "    def __init__(self):\n",
    "        Animal.__init__(self)\n",
    "        print(\"Dog barks loud\")\n",
    "\n",
    "class Puppy(Dog):\n",
    "\n",
    "    def __init__(self):\n",
    "        Dog.__init__(self)\n",
    "        print(\"Puppy walk\")\n",
    "\n",
    "p = Puppy()\n",
    "\n",
    "p"
   ]
  },
  {
   "cell_type": "code",
   "execution_count": 56,
   "metadata": {},
   "outputs": [
    {
     "data": {
      "text/plain": [
       "'Gupta'"
      ]
     },
     "execution_count": 56,
     "metadata": {},
     "output_type": "execute_result"
    }
   ],
   "source": [
    "class GrandFather:\n",
    "    g_name = \"Gupta\"\n",
    "\n",
    "class Father(GrandFather):\n",
    "    f_name = \"Ram\"\n",
    "\n",
    "    def __init__(self):\n",
    "        GrandFather.__init__(self)\n",
    "\n",
    "class Son(Father):\n",
    "\n",
    "    s_name = \"Arjun\"\n",
    "\n",
    "    def __init__(self):\n",
    "        Father.__init__(self)\n",
    "\n",
    "\n",
    "s = Son()\n",
    "\n",
    "s.g_name"
   ]
  },
  {
   "cell_type": "code",
   "execution_count": 57,
   "metadata": {},
   "outputs": [
    {
     "data": {
      "text/plain": [
       "'Ram'"
      ]
     },
     "execution_count": 57,
     "metadata": {},
     "output_type": "execute_result"
    }
   ],
   "source": [
    "s.f_name"
   ]
  },
  {
   "cell_type": "code",
   "execution_count": 59,
   "metadata": {},
   "outputs": [
    {
     "data": {
      "text/plain": [
       "'Arjun'"
      ]
     },
     "execution_count": 59,
     "metadata": {},
     "output_type": "execute_result"
    }
   ],
   "source": [
    "s.s_name"
   ]
  },
  {
   "cell_type": "code",
   "execution_count": null,
   "metadata": {},
   "outputs": [],
   "source": []
  }
 ],
 "metadata": {
  "kernelspec": {
   "display_name": "Python 3",
   "language": "python",
   "name": "python3"
  },
  "language_info": {
   "codemirror_mode": {
    "name": "ipython",
    "version": 3
   },
   "file_extension": ".py",
   "mimetype": "text/x-python",
   "name": "python",
   "nbconvert_exporter": "python",
   "pygments_lexer": "ipython3",
   "version": "3.11.5"
  }
 },
 "nbformat": 4,
 "nbformat_minor": 2
}
