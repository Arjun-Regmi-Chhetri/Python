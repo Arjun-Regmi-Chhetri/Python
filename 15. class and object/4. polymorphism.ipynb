{
 "cells": [
  {
   "cell_type": "markdown",
   "metadata": {},
   "source": [
    "# Polymorphism\n",
    "\n",
    "* It means many form that means in python same name can be used in different class, object and function"
   ]
  },
  {
   "cell_type": "code",
   "execution_count": 1,
   "metadata": {},
   "outputs": [
    {
     "data": {
      "text/plain": [
       "5"
      ]
     },
     "execution_count": 1,
     "metadata": {},
     "output_type": "execute_result"
    }
   ],
   "source": [
    "2 + 3\n"
   ]
  },
  {
   "cell_type": "code",
   "execution_count": 2,
   "metadata": {},
   "outputs": [
    {
     "data": {
      "text/plain": [
       "'HelloPython'"
      ]
     },
     "execution_count": 2,
     "metadata": {},
     "output_type": "execute_result"
    }
   ],
   "source": [
    "\"Hello\" + \"Python\""
   ]
  },
  {
   "cell_type": "code",
   "execution_count": 3,
   "metadata": {},
   "outputs": [
    {
     "data": {
      "text/plain": [
       "5"
      ]
     },
     "execution_count": 3,
     "metadata": {},
     "output_type": "execute_result"
    }
   ],
   "source": [
    "len(\"Hello\")"
   ]
  },
  {
   "cell_type": "code",
   "execution_count": 4,
   "metadata": {},
   "outputs": [
    {
     "data": {
      "text/plain": [
       "2"
      ]
     },
     "execution_count": 4,
     "metadata": {},
     "output_type": "execute_result"
    }
   ],
   "source": [
    "len([5,2])"
   ]
  },
  {
   "cell_type": "code",
   "execution_count": 6,
   "metadata": {},
   "outputs": [
    {
     "data": {
      "text/plain": [
       "3"
      ]
     },
     "execution_count": 6,
     "metadata": {},
     "output_type": "execute_result"
    }
   ],
   "source": [
    "fruit = (\"apple\", \"banana\", \"cherry\")\n",
    "\n",
    "len(fruit)"
   ]
  },
  {
   "cell_type": "code",
   "execution_count": 5,
   "metadata": {},
   "outputs": [
    {
     "name": "stdout",
     "output_type": "stream",
     "text": [
      "<class '__main__.Point'> <class '__main__.Point'>\n"
     ]
    }
   ],
   "source": [
    "class Point:\n",
    "\n",
    "    def __init__(self, p):\n",
    "        self.p = p\n",
    "\n",
    "p1 = Point(1)\n",
    "p2 = Point(2)\n",
    "\n",
    "print(type(p1), type(p2))"
   ]
  },
  {
   "cell_type": "code",
   "execution_count": 7,
   "metadata": {},
   "outputs": [
    {
     "ename": "TypeError",
     "evalue": "unsupported operand type(s) for +: 'Point' and 'Point'",
     "output_type": "error",
     "traceback": [
      "\u001b[1;31m---------------------------------------------------------------------------\u001b[0m",
      "\u001b[1;31mTypeError\u001b[0m                                 Traceback (most recent call last)",
      "Cell \u001b[1;32mIn[7], line 1\u001b[0m\n\u001b[1;32m----> 1\u001b[0m \u001b[43mp1\u001b[49m\u001b[43m \u001b[49m\u001b[38;5;241;43m+\u001b[39;49m\u001b[43m \u001b[49m\u001b[43mp2\u001b[49m\n",
      "\u001b[1;31mTypeError\u001b[0m: unsupported operand type(s) for +: 'Point' and 'Point'"
     ]
    }
   ],
   "source": [
    "p1 + p2  #----------- Since this is user defined there is not define what to do with \"+\" operator "
   ]
  },
  {
   "cell_type": "code",
   "execution_count": 8,
   "metadata": {},
   "outputs": [],
   "source": [
    "class Point:\n",
    "\n",
    "    def __init__(self, p):\n",
    "        self.p = p\n",
    "\n",
    "    def __add__(self, other):\n",
    "        return self.p + other.p\n",
    "p1 = Point(1)\n",
    "p2 = Point(2)"
   ]
  },
  {
   "cell_type": "code",
   "execution_count": 9,
   "metadata": {},
   "outputs": [
    {
     "data": {
      "text/plain": [
       "3"
      ]
     },
     "execution_count": 9,
     "metadata": {},
     "output_type": "execute_result"
    }
   ],
   "source": [
    "p1 + p2"
   ]
  },
  {
   "cell_type": "code",
   "execution_count": 10,
   "metadata": {},
   "outputs": [
    {
     "data": {
      "text/plain": [
       "6"
      ]
     },
     "execution_count": 10,
     "metadata": {},
     "output_type": "execute_result"
    }
   ],
   "source": [
    "p1 = Point(4)\n",
    "p2 = Point(2)\n",
    "\n",
    "p1+p2"
   ]
  },
  {
   "cell_type": "code",
   "execution_count": 1,
   "metadata": {},
   "outputs": [],
   "source": [
    "class Point:\n",
    "\n",
    "    def __init__(self,p):\n",
    "        self.p = p\n",
    "    def __add__(self, other):\n",
    "        return self.p + other.p\n",
    "    def __gt__(self, other):\n",
    "        return self.p > other.p\n",
    "    def __lt__(self, other):\n",
    "        return self.p < other.p\n",
    "    def __str__(self):\n",
    "        return f\" point = {self.p}\""
   ]
  },
  {
   "cell_type": "code",
   "execution_count": 4,
   "metadata": {},
   "outputs": [],
   "source": [
    "p1 = Point(1)\n",
    "p2 = Point(2)"
   ]
  },
  {
   "cell_type": "code",
   "execution_count": 5,
   "metadata": {},
   "outputs": [
    {
     "data": {
      "text/plain": [
       "3"
      ]
     },
     "execution_count": 5,
     "metadata": {},
     "output_type": "execute_result"
    }
   ],
   "source": [
    "p1 + p2"
   ]
  },
  {
   "cell_type": "code",
   "execution_count": 6,
   "metadata": {},
   "outputs": [
    {
     "data": {
      "text/plain": [
       "True"
      ]
     },
     "execution_count": 6,
     "metadata": {},
     "output_type": "execute_result"
    }
   ],
   "source": [
    "p1 < p2"
   ]
  },
  {
   "cell_type": "code",
   "execution_count": 7,
   "metadata": {},
   "outputs": [
    {
     "data": {
      "text/plain": [
       "False"
      ]
     },
     "execution_count": 7,
     "metadata": {},
     "output_type": "execute_result"
    }
   ],
   "source": [
    "p1 > p2"
   ]
  },
  {
   "cell_type": "code",
   "execution_count": 9,
   "metadata": {},
   "outputs": [
    {
     "name": "stdout",
     "output_type": "stream",
     "text": [
      " point = 1\n"
     ]
    }
   ],
   "source": [
    "print(p1)"
   ]
  },
  {
   "cell_type": "markdown",
   "metadata": {},
   "source": [
    "# class polymorphism"
   ]
  },
  {
   "cell_type": "code",
   "execution_count": 13,
   "metadata": {},
   "outputs": [
    {
     "name": "stdout",
     "output_type": "stream",
     "text": [
      "Drive ! \n",
      "Sail ! \n",
      "Fly ! \n"
     ]
    }
   ],
   "source": [
    "class Car:\n",
    "\n",
    "    def __init__(self, brand, model):\n",
    "        self.model = model\n",
    "        self.brand = brand\n",
    "\n",
    "    def move(self):\n",
    "        print(\"Drive ! \")\n",
    "\n",
    "class Boat:\n",
    "      def __init__(self, brand, model):\n",
    "        self.model = model\n",
    "        self.brand = brand\n",
    "    \n",
    "      def move(self):\n",
    "        print(\"Sail ! \")\n",
    "\n",
    "class Plane:\n",
    "     \n",
    "     def __init__(self, brand, model):\n",
    "        self.model = model\n",
    "        self.brand = brand\n",
    "    \n",
    "     def move(self):\n",
    "        print(\"Fly ! \")\n",
    "\n",
    "car1 = Car(\"Ford\", \"Mustang\")       #Create a Car class\n",
    "boat1 = Boat(\"Ibiza\", \"Touring 20\") #Create a Boat class\n",
    "plane1 = Plane(\"Boeing\", \"747\")     #Create a Plane class\n",
    "\n",
    "for item in (car1,boat1,plane1):\n",
    " item.move()"
   ]
  },
  {
   "cell_type": "code",
   "execution_count": 27,
   "metadata": {},
   "outputs": [
    {
     "name": "stdout",
     "output_type": "stream",
     "text": [
      " Nepal language = Nepali\n",
      " Nepal religion =  Hindu \n",
      " USA language = English\n",
      " USA religion =  Cristianity \n"
     ]
    }
   ],
   "source": [
    "class Nepal:\n",
    "\n",
    "    def __init__(self, language, religion):\n",
    "        self.language = language\n",
    "        self.religion = religion\n",
    "    \n",
    "    def languages(self):\n",
    "        return f\" {self.__class__.__name__} language = {self.language}\"\n",
    "    \n",
    "    def religions(self):\n",
    "        return f\" {self.__class__.__name__} religion =  {self.religion} \"\n",
    "    \n",
    "class USA:\n",
    "     def __init__(self, language, religion):\n",
    "        self.language = language\n",
    "        self.religion = religion\n",
    "    \n",
    "     def languages(self):\n",
    "        return f\" {self.__class__.__name__} language = {self.language}\"\n",
    "    \n",
    "     def religions(self):\n",
    "        return f\" {self.__class__.__name__} religion =  {self.religion} \"\n",
    "\n",
    "np = Nepal(\"Nepali\", \"Hindu\")\n",
    "us = USA(\"English\", \"Cristianity\")\n",
    "\n",
    "\n",
    "for country in (np, us):\n",
    "    print(country.languages())\n",
    "    print(country.religions())"
   ]
  },
  {
   "cell_type": "markdown",
   "metadata": {},
   "source": [
    "# using super()"
   ]
  },
  {
   "cell_type": "code",
   "execution_count": 32,
   "metadata": {},
   "outputs": [
    {
     "name": "stdout",
     "output_type": "stream",
     "text": [
      " Nepal language = Nepali\n",
      " Nepal religion =  Hindu \n",
      " USA language = English\n",
      " USA religion =  Cristianity \n"
     ]
    }
   ],
   "source": [
    "class Nepal:\n",
    "\n",
    "    def __init__(self, language, religion):\n",
    "        self.language = language\n",
    "        self.religion = religion\n",
    "    \n",
    "    def languages(self):\n",
    "        return f\" {self.__class__.__name__} language = {self.language}\"\n",
    "    \n",
    "    def religions(self):\n",
    "        return f\" {self.__class__.__name__} religion =  {self.religion} \"\n",
    "    \n",
    "class USA(Nepal):\n",
    "     def __init__(self, language, religion):\n",
    "        super().__init__(language,religion)\n",
    "  \n",
    "\n",
    "np = Nepal(\"Nepali\", \"Hindu\")\n",
    "us = USA(\"English\", \"Cristianity\")\n",
    "\n",
    "\n",
    "for country in (np, us):\n",
    "    print(country.languages())\n",
    "    print(country.religions())"
   ]
  },
  {
   "cell_type": "code",
   "execution_count": null,
   "metadata": {},
   "outputs": [],
   "source": []
  }
 ],
 "metadata": {
  "kernelspec": {
   "display_name": "Python 3",
   "language": "python",
   "name": "python3"
  },
  "language_info": {
   "codemirror_mode": {
    "name": "ipython",
    "version": 3
   },
   "file_extension": ".py",
   "mimetype": "text/x-python",
   "name": "python",
   "nbconvert_exporter": "python",
   "pygments_lexer": "ipython3",
   "version": "3.11.5"
  }
 },
 "nbformat": 4,
 "nbformat_minor": 2
}
